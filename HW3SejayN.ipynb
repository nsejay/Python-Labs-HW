{
 "cells": [
  {
   "cell_type": "markdown",
   "id": "fb67045a-0752-4972-a7bb-57e2e11c37da",
   "metadata": {},
   "source": [
    "### Homework 3 Problem 1"
   ]
  },
  {
   "cell_type": "markdown",
   "id": "385a37ea-7b42-4c84-847b-58b7285a8408",
   "metadata": {},
   "source": [
    "#### Square"
   ]
  },
  {
   "cell_type": "code",
   "execution_count": 103,
   "id": "970d8061-2298-458b-ac55-23840eeb11f7",
   "metadata": {},
   "outputs": [],
   "source": [
    "# Author: Sejay Noupin\n",
    "# Purpose: Use turtle library to draw a square\n",
    "\n",
    "import turtle as t\n",
    "degrees = 90\n",
    "t.showturtle()\n",
    "t.forward(25)\n",
    "t.left(degrees)\n",
    "t.forward(50)\n",
    "t.left(degrees)\n",
    "t.forward(50)\n",
    "t.left(degrees)\n",
    "t.forward(50)\n",
    "t.left(degrees)\n",
    "t.forward(25)\n",
    "t.hideturtle()\n",
    "t.done()"
   ]
  },
  {
   "cell_type": "markdown",
   "id": "463ce71e-9778-463f-a4e4-f9d049b74eea",
   "metadata": {},
   "source": [
    "#### Triangle"
   ]
  },
  {
   "cell_type": "code",
   "execution_count": 107,
   "id": "c4c3492c-5957-459a-8064-4e0bea4efdb5",
   "metadata": {},
   "outputs": [],
   "source": [
    "# Author: Sejay Noupin\n",
    "# Purpose: Use turtle library to draw a triangle\n",
    "\n",
    "degrees = 120\n",
    "t.forward(40)\n",
    "t.left(degrees)\n",
    "t.forward(80)\n",
    "t.left(degrees)\n",
    "t.forward(80)\n",
    "t.left(degrees)\n",
    "t.forward(40)\n",
    "t.hideturtle()\n",
    "t.done()"
   ]
  },
  {
   "cell_type": "markdown",
   "id": "3740c0f0-fa6f-4a85-b188-2fbb3af3bdb4",
   "metadata": {},
   "source": [
    "#### Rectangular Pyramid"
   ]
  },
  {
   "cell_type": "code",
   "execution_count": 111,
   "id": "bb251161-662c-4adb-9c11-2cadfc649300",
   "metadata": {},
   "outputs": [],
   "source": [
    "# Author: Sejay Noupin\n",
    "# Purpose: Use turtle library to draw a rectangular pyramid\n",
    "\n",
    "degrees = 90\n",
    "t.forward(150)\n",
    "t.left(degrees)\n",
    "t.forward(50)\n",
    "t.left(degrees)\n",
    "t.forward(300)\n",
    "t.left(degrees)\n",
    "t.forward(50)\n",
    "t.left(degrees)\n",
    "t.forward(150)\n",
    "t.penup()\n",
    "t.left(degrees)\n",
    "t.forward(50)\n",
    "t.right(degrees)\n",
    "t.forward(120)\n",
    "t.left(degrees)\n",
    "t.pendown()\n",
    "t.forward(50)\n",
    "t.left(90)\n",
    "t.forward(240)\n",
    "t.left(90)\n",
    "t.forward(50)\n",
    "t.penup()\n",
    "t.backward(50)\n",
    "t.left(degrees)\n",
    "t.forward(30)\n",
    "t.left(degrees)\n",
    "t.pendown()\n",
    "t.forward(50)\n",
    "t.right(degrees)\n",
    "t.forward(180)\n",
    "t.right(degrees)\n",
    "t.forward(50)\n",
    "t.penup()\n",
    "t.backward(50)\n",
    "t.right(degrees)\n",
    "t.forward(30)\n",
    "t.right(degrees)\n",
    "t.pendown()\n",
    "t.forward(50)\n",
    "t.left(degrees)\n",
    "t.forward(120)\n",
    "t.left(degrees)\n",
    "t.forward(50)\n",
    "t.penup()\n",
    "t.backward(50)\n",
    "t.left(degrees)\n",
    "t.forward(30)\n",
    "t.left(90)\n",
    "t.pendown()\n",
    "t.forward(50)\n",
    "t.right(degrees)\n",
    "t.forward(60)\n",
    "t.right(degrees)\n",
    "t.forward(50)\n",
    "t.hideturtle()\n",
    "t.done()"
   ]
  },
  {
   "cell_type": "markdown",
   "id": "6ea6cf4b-532a-4b53-b246-f56a8cb6c4bf",
   "metadata": {},
   "source": [
    "### Homework 3 Problem 2"
   ]
  },
  {
   "cell_type": "markdown",
   "id": "51b4097b-7b3c-4103-ad4f-15a528e8a301",
   "metadata": {},
   "source": [
    "#### Is the love interest single?\n",
    "#### This overrides the age factor"
   ]
  },
  {
   "cell_type": "code",
   "execution_count": 117,
   "id": "d11b648e-72bf-4857-8c5f-d320c7e4743b",
   "metadata": {},
   "outputs": [
    {
     "name": "stdin",
     "output_type": "stream",
     "text": [
      "Is your love interest single? (Yes or no): Yes\n",
      "\n",
      "Enter your age: 25\n",
      "Enter your love interest age: 40\n"
     ]
    },
    {
     "name": "stdout",
     "output_type": "stream",
     "text": [
      "\n",
      "Find someone else, they're too old for you!\n"
     ]
    }
   ],
   "source": [
    "# Author: Sejay Noupin\n",
    "# Purpose: The purpose of this program is to expand on the Dating Equation done in class\n",
    "\n",
    "relationship = input (\"Is your love interest single? (Yes or no):\")\n",
    "\n",
    "if relationship == \"Yes\" or relationship == \"yes\":\n",
    "    your_age = int(input (\"\\nEnter your age:\"))\n",
    "    love_interest_age = int(input(\"Enter your love interest age:\"))\n",
    "    if love_interest_age < your_age / 2 + 7:\n",
    "        print (\"You are creepy... find someone your own age!\")\n",
    "    elif love_interest_age > (your_age - 7) * 2:\n",
    "        print (\"\\nFind someone else, they're too old for you!\")\n",
    "    else:\n",
    "        print (\"\\nYou are good to go!\")\n",
    "            \n",
    "else:\n",
    "    print (\"\\nUnfortunately, they're already in a relationship\")"
   ]
  },
  {
   "cell_type": "markdown",
   "id": "56afdb21-d7e2-49d9-87df-1a6c0f14337a",
   "metadata": {},
   "source": [
    "### Homework 3 Problem 3"
   ]
  },
  {
   "cell_type": "code",
   "execution_count": 119,
   "id": "53f56ad5-4eab-49be-b0e4-8696278e3a03",
   "metadata": {},
   "outputs": [
    {
     "name": "stdin",
     "output_type": "stream",
     "text": [
      "How old are you? 35\n"
     ]
    },
    {
     "name": "stdout",
     "output_type": "stream",
     "text": [
      "\n",
      "You are an adult.\n"
     ]
    }
   ],
   "source": [
    "# Author: Sejay Noupin\n",
    "# Purpose: The purpose of this program is to verify what stage you are in life based on age\n",
    "\n",
    "age = int(input (\"How old are you?\"))\n",
    "\n",
    "if age <= 1:\n",
    "    print (\"\\nYou are an infant.\")\n",
    "elif age < 3:\n",
    "    print (\"\\nYou are a toddler.\")\n",
    "elif age < 13:\n",
    "    print (\"\\nYou are a child.\")\n",
    "elif age < 20:\n",
    "    print (\"\\nYou are a teenager.\")\n",
    "elif age < 70:\n",
    "    print (\"\\nYou are an adult.\")\n",
    "else:\n",
    "    print (\"\\nYou are a mature wise person!\")"
   ]
  }
 ],
 "metadata": {
  "kernelspec": {
   "display_name": "Python 3 (ipykernel)",
   "language": "python",
   "name": "python3"
  },
  "language_info": {
   "codemirror_mode": {
    "name": "ipython",
    "version": 3
   },
   "file_extension": ".py",
   "mimetype": "text/x-python",
   "name": "python",
   "nbconvert_exporter": "python",
   "pygments_lexer": "ipython3",
   "version": "3.12.4"
  }
 },
 "nbformat": 4,
 "nbformat_minor": 5
}
