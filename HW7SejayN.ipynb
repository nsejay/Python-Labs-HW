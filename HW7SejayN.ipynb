{
 "cells": [
  {
   "cell_type": "markdown",
   "id": "8ef16de6-fe46-4b24-9981-13842150afc2",
   "metadata": {},
   "source": [
    "### Homework 7 Problem 1"
   ]
  },
  {
   "cell_type": "code",
   "execution_count": null,
   "id": "b9bf6f67-8f7e-460a-80ed-fa9352f9812c",
   "metadata": {},
   "outputs": [],
   "source": []
  },
  {
   "cell_type": "code",
   "execution_count": null,
   "id": "066f1e77-406e-462d-bde4-1ef611e526e7",
   "metadata": {},
   "outputs": [],
   "source": []
  },
  {
   "cell_type": "code",
   "execution_count": 22,
   "id": "da5eebe8-39e4-46a1-83c9-7109a11b8858",
   "metadata": {},
   "outputs": [
    {
     "name": "stdout",
     "output_type": "stream",
     "text": [
      "Monthly Sales Program\n",
      "\n",
      "COMMAND MENU:\n",
      "monthly - View monthly sales\n",
      "yearly - View yearly summary\n",
      "edit - Edit sales for a month\n",
      "exit - Exit program\n"
     ]
    },
    {
     "name": "stdin",
     "output_type": "stream",
     "text": [
      "Command:  montly\n"
     ]
    },
    {
     "name": "stdout",
     "output_type": "stream",
     "text": [
      "Not a valid command, please try again.\n",
      "\n",
      "COMMAND MENU:\n",
      "monthly - View monthly sales\n",
      "yearly - View yearly summary\n",
      "edit - Edit sales for a month\n",
      "exit - Exit program\n"
     ]
    },
    {
     "name": "stdin",
     "output_type": "stream",
     "text": [
      "Command:  monthly\n"
     ]
    },
    {
     "name": "stdout",
     "output_type": "stream",
     "text": [
      "\n",
      "Jan - 14317\n",
      "Feb - 3903\n",
      "Mar - 1073\n",
      "Apr - 3463\n",
      "May - 2429\n",
      "Jun - 1275\n",
      "Jul - 9762\n",
      "Aug - 15578\n",
      "Sep - 2437\n",
      "Oct - 6735\n",
      "Nov - 5678\n",
      "Dec - 2497\n",
      "\n",
      "COMMAND MENU:\n",
      "monthly - View monthly sales\n",
      "yearly - View yearly summary\n",
      "edit - Edit sales for a month\n",
      "exit - Exit program\n"
     ]
    },
    {
     "name": "stdin",
     "output_type": "stream",
     "text": [
      "Command:  yearly\n"
     ]
    },
    {
     "name": "stdout",
     "output_type": "stream",
     "text": [
      "\n",
      "Yearly Total: 69147\n",
      "Monthly Average: 5762.25\n",
      "\n",
      "COMMAND MENU:\n",
      "monthly - View monthly sales\n",
      "yearly - View yearly summary\n",
      "edit - Edit sales for a month\n",
      "exit - Exit program\n"
     ]
    },
    {
     "name": "stdin",
     "output_type": "stream",
     "text": [
      "Command:  edit\n",
      "\n",
      "Enter a three-letter month:  exi\n"
     ]
    },
    {
     "name": "stdout",
     "output_type": "stream",
     "text": [
      "Invalid response. Please enter a valid three-letter abbreviation for the desired month.\n"
     ]
    },
    {
     "name": "stdin",
     "output_type": "stream",
     "text": [
      "Enter a three-letter month:  June\n"
     ]
    },
    {
     "name": "stdout",
     "output_type": "stream",
     "text": [
      "Invalid response. Please enter a valid three-letter abbreviation for the desired month.\n"
     ]
    },
    {
     "name": "stdin",
     "output_type": "stream",
     "text": [
      "Enter a three-letter month:  Apr\n",
      "Sales Amount:  13589\n"
     ]
    },
    {
     "name": "stdout",
     "output_type": "stream",
     "text": [
      "Sales amount for Apr was modified\n",
      "\n",
      "COMMAND MENU:\n",
      "monthly - View monthly sales\n",
      "yearly - View yearly summary\n",
      "edit - Edit sales for a month\n",
      "exit - Exit program\n"
     ]
    },
    {
     "name": "stdin",
     "output_type": "stream",
     "text": [
      "Command:  monthly\n"
     ]
    },
    {
     "name": "stdout",
     "output_type": "stream",
     "text": [
      "\n",
      "Jan - 14317\n",
      "Feb - 3903\n",
      "Mar - 1073\n",
      "Apr - 13589\n",
      "May - 2429\n",
      "Jun - 1275\n",
      "Jul - 9762\n",
      "Aug - 15578\n",
      "Sep - 2437\n",
      "Oct - 6735\n",
      "Nov - 5678\n",
      "Dec - 2497\n",
      "\n",
      "COMMAND MENU:\n",
      "monthly - View monthly sales\n",
      "yearly - View yearly summary\n",
      "edit - Edit sales for a month\n",
      "exit - Exit program\n"
     ]
    },
    {
     "name": "stdin",
     "output_type": "stream",
     "text": [
      "Command:  yearly\n"
     ]
    },
    {
     "name": "stdout",
     "output_type": "stream",
     "text": [
      "\n",
      "Yearly Total: 79273\n",
      "Monthly Average: 6606.08\n",
      "\n",
      "COMMAND MENU:\n",
      "monthly - View monthly sales\n",
      "yearly - View yearly summary\n",
      "edit - Edit sales for a month\n",
      "exit - Exit program\n"
     ]
    },
    {
     "name": "stdin",
     "output_type": "stream",
     "text": [
      "Command:  edit\n",
      "\n",
      "Enter a three-letter month:  Apr\n",
      "Sales Amount:  13589\n"
     ]
    },
    {
     "name": "stdout",
     "output_type": "stream",
     "text": [
      "Sales amount for Apr was modified\n",
      "\n",
      "COMMAND MENU:\n",
      "monthly - View monthly sales\n",
      "yearly - View yearly summary\n",
      "edit - Edit sales for a month\n",
      "exit - Exit program\n"
     ]
    },
    {
     "name": "stdin",
     "output_type": "stream",
     "text": [
      "Command:  exit\n"
     ]
    },
    {
     "name": "stdout",
     "output_type": "stream",
     "text": [
      "Bye!\n"
     ]
    }
   ],
   "source": [
    "# Author: Sejay Noupin\n",
    "# Purpose: Read a csv file into python that allows user interaction with monthly sales\n",
    "\n",
    "import csv\n",
    "\n",
    "FILENAME = \"monthly_sales.csv\"\n",
    "\n",
    "def write_sales(monthly_sales) :\n",
    "    with open(FILENAME, \"w\", newline = \"\") as file :\n",
    "        writer = csv.writer(file)\n",
    "        writer.writerows(monthly_sales)\n",
    "\n",
    "def read_sales() :\n",
    "    monthly_sales = []\n",
    "    with open(FILENAME, newline = \"\") as file :\n",
    "        reader = csv.reader(file)\n",
    "        for row in reader :\n",
    "            monthly_sales.append(row)\n",
    "    return monthly_sales\n",
    "\n",
    "def list_monthly_sales(monthly_sales) :\n",
    "    print()\n",
    "    for sales in monthly_sales :\n",
    "        print(sales[0] + ' - ' + sales[1])\n",
    "    print()\n",
    "\n",
    "def list_yearly_summary(monthly_sales) :\n",
    "    total_sales = 0\n",
    "    for sales in monthly_sales :\n",
    "        total_sales += int(sales[1])\n",
    "    print(\"\\nYearly Total:\", total_sales)\n",
    "    print(\"Monthly Average:\", round((total_sales/12),2))\n",
    "    print()\n",
    "\n",
    "def edit_sales(monthly_sales) :\n",
    "    month = input(\"\\nEnter a three-letter month: \")\n",
    "    control = 0\n",
    "    while control == 0 :\n",
    "        for sales in monthly_sales:  \n",
    "            if sales[0].lower() == month.lower() :\n",
    "                sale_amount = input(\"Sales Amount: \")\n",
    "                control = 1\n",
    "                sales[1] = sale_amount\n",
    "                print(\"Sales amount for \" + month + \" was modified\\n\")\n",
    "        if control == 0 :    \n",
    "            print(\"Invalid response. Please enter a valid three-letter abbreviation for the desired month.\")\n",
    "            month = input(\"Enter a three-letter month: \")\n",
    "        \n",
    "    write_sales(monthly_sales)\n",
    "\n",
    "def display_menu() :\n",
    "    print(\"COMMAND MENU:\")\n",
    "    print(\"monthly - View monthly sales\")\n",
    "    print(\"yearly - View yearly summary\")\n",
    "    print(\"edit - Edit sales for a month\")\n",
    "    print(\"exit - Exit program\")\n",
    "\n",
    "def main() :\n",
    "    print(\"Monthly Sales Program\\n\")\n",
    "    display_menu()\n",
    "    monthly_sales = read_sales()\n",
    "    command = input(\"Command: \")\n",
    "    \n",
    "    while command.lower() != \"exit\" :\n",
    "        if command.lower() == \"monthly\" :\n",
    "            list_monthly_sales(monthly_sales)\n",
    "        elif command.lower() == \"yearly\" :\n",
    "            list_yearly_summary(monthly_sales)\n",
    "        elif command.lower() == \"edit\" :\n",
    "            edit_sales(monthly_sales)            \n",
    "        else :\n",
    "            print(\"Not a valid command, please try again.\\n\")\n",
    "        display_menu()\n",
    "        command = input(\"Command: \")\n",
    "    print(\"Bye!\")\n",
    "\n",
    "if __name__ == \"__main__\" :\n",
    "    main()"
   ]
  },
  {
   "cell_type": "markdown",
   "id": "51ca733b-8102-430a-882e-a7187c11e407",
   "metadata": {},
   "source": [
    "### Homework 7 Problem 2"
   ]
  },
  {
   "cell_type": "code",
   "execution_count": 45,
   "id": "12ccc5ee-7ba4-471e-8883-b0d7c00372f5",
   "metadata": {},
   "outputs": [
    {
     "data": {
      "image/png": "[encoded data removed]",
      "text/plain": [
       "<Figure size 640x480 with 1 Axes>"
      ]
     },
     "metadata": {},
     "output_type": "display_data"
    }
   ],
   "source": [
    "# Author: Sejay Noupin\n",
    "# Purpose: Create a bar chart to display population from 1995 to 2015 in 5 year intervals\n",
    "\n",
    "import matplotlib.pyplot as plt\n",
    "\n",
    "def main() :\n",
    "    years = [1995, 2000, 2005, 2010, 2015]\n",
    "    populations = [265660556, 282398554, 296842670, 311182845, 324607776]\n",
    "    bar_width = 3\n",
    "    \n",
    "    plt.title(\"United States Population\")\n",
    "    plt.xlabel(\"Years\")\n",
    "    plt.ylabel(\"Population\")\n",
    "    plt.bar(years, populations, bar_width,\n",
    "            color = ('m', 'k', 'b', 'r', 'y'))\n",
    "    plt.show()\n",
    "\n",
    "if __name__ == \"__main__\" :\n",
    "    main()"
   ]
  }
 ],
 "metadata": {
  "kernelspec": {
   "display_name": "Python 3 (ipykernel)",
   "language": "python",
   "name": "python3"
  },
  "language_info": {
   "codemirror_mode": {
    "name": "ipython",
    "version": 3
   },
   "file_extension": ".py",
   "mimetype": "text/x-python",
   "name": "python",
   "nbconvert_exporter": "python",
   "pygments_lexer": "ipython3",
   "version": "3.12.4"
  }
 },
 "nbformat": 4,
 "nbformat_minor": 5
}
