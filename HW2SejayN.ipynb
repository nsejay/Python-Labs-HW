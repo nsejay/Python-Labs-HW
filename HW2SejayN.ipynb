{
 "cells": [
  {
   "cell_type": "markdown",
   "id": "fc152c19-7147-419c-ad74-2c5d7902f09d",
   "metadata": {},
   "source": [
    "### Homework 2 Problem 1"
   ]
  },
  {
   "cell_type": "code",
   "execution_count": 96,
   "id": "afd549f5-fc25-43f7-9859-0d2ef9a37ddf",
   "metadata": {
    "scrolled": true
   },
   "outputs": [
    {
     "name": "stdin",
     "output_type": "stream",
     "text": [
      "Enter the number of seconds: 516\n"
     ]
    },
    {
     "name": "stdout",
     "output_type": "stream",
     "text": [
      "\n",
      "The time in hours, minutes, and seconds is:\n",
      "\n",
      "\t Hours: 0.0 \n",
      "\n",
      "\t Minutes: 8.0 \n",
      "\n",
      "\t Seconds: 36.0\n"
     ]
    }
   ],
   "source": [
    "# Author: Sejay Noupin\n",
    "# This program converts seconds to hours, minutes, and seconds\n",
    "time_seconds = input(\"Enter the number of seconds:\")\n",
    "time_seconds = float(time_seconds)\n",
    "time_minutes = int(time_seconds / 60)\n",
    "time_seconds -= (time_minutes * 60)\n",
    "time_hours = int(time_minutes / 60)\n",
    "time_hours = float(time_hours)\n",
    "time_minutes -= int(time_hours * 60)\n",
    "time_minutes = float(time_minutes)\n",
    "print (\"\\nThe time in hours, minutes, and seconds is:\\n\")\n",
    "print (\"\\t Hours:\", time_hours,\"\\n\")\n",
    "print (\"\\t Minutes:\", time_minutes,\"\\n\")\n",
    "print (\"\\t Seconds:\", time_seconds,)"
   ]
  },
  {
   "cell_type": "markdown",
   "id": "8dbedb36-54e5-4c89-86ab-cf7c3675e54a",
   "metadata": {},
   "source": [
    "### Homework 2 Problem 2"
   ]
  },
  {
   "cell_type": "code",
   "execution_count": 112,
   "id": "fc3efb23-e3f3-4d92-93e3-b85d3750d4e3",
   "metadata": {},
   "outputs": [
    {
     "name": "stdin",
     "output_type": "stream",
     "text": [
      "Enter the temperature in Fahrenheit: 78\n"
     ]
    },
    {
     "name": "stdout",
     "output_type": "stream",
     "text": [
      "\n",
      "The temperature in Celsius is:\n",
      "\n",
      "\tCelsius: 25.6 C\n"
     ]
    }
   ],
   "source": [
    "# Author: Sejay Noupin\n",
    "# This program converts Fahrenheit to Celsius\n",
    "temperature_fahrenheit = input (\"Enter the temperature in Fahrenheit:\")\n",
    "temperature_fahrenheit = float(temperature_fahrenheit)\n",
    "temperature_celsius = (temperature_fahrenheit - 32) * (5/9)\n",
    "print (\"\\nThe temperature in Celsius is:\\n\")\n",
    "print (\"\\tCelsius:\",round(temperature_celsius,1),'C')"
   ]
  }
 ],
 "metadata": {
  "kernelspec": {
   "display_name": "Python 3 (ipykernel)",
   "language": "python",
   "name": "python3"
  },
  "language_info": {
   "codemirror_mode": {
    "name": "ipython",
    "version": 3
   },
   "file_extension": ".py",
   "mimetype": "text/x-python",
   "name": "python",
   "nbconvert_exporter": "python",
   "pygments_lexer": "ipython3",
   "version": "3.12.4"
  }
 },
 "nbformat": 4,
 "nbformat_minor": 5
}
