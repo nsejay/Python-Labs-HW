{
 "cells": [
  {
   "cell_type": "markdown",
   "id": "e92ea865-79a3-4334-8aa6-239f328ab05e",
   "metadata": {},
   "source": [
    "### Lab 2 Problem 1"
   ]
  },
  {
   "cell_type": "markdown",
   "id": "057480b5-b8ba-4fb7-966b-2ac43de9f5a6",
   "metadata": {},
   "source": [
    "##### Bitcoin was one of the first cryptocurrencies to be realeased which grew in popularity during the 2010s.\n",
    "##### It uses blockchain technology to support transactions"
   ]
  },
  {
   "cell_type": "markdown",
   "id": "21c6e6cd-4f68-4d96-b714-80e9af5aa0a1",
   "metadata": {},
   "source": [
    "### Lab 2 Problem 2"
   ]
  },
  {
   "cell_type": "code",
   "execution_count": 24,
   "id": "6e4d1f65-dde7-45c4-b741-101a9850ec93",
   "metadata": {},
   "outputs": [
    {
     "name": "stdin",
     "output_type": "stream",
     "text": [
      "Enter the number of bitcoins you would like to convert: 1.5\n"
     ]
    },
    {
     "name": "stdout",
     "output_type": "stream",
     "text": [
      "The cost of 1.5 Bitcoin is/are $82785.83\n"
     ]
    }
   ],
   "source": [
    "# Author: Sejay Noupin\n",
    "# This program converts the value of bitcoin to US dollars\n",
    "bitcoin = input(\"Enter the number of bitcoins you would like to convert:\")\n",
    "dollars = float(bitcoin) * 55190.55\n",
    "dollars_string = str(round(dollars,2))\n",
    "print (\"The cost of\", bitcoin, \"Bitcoin is/are $\" + dollars_string)"
   ]
  },
  {
   "cell_type": "markdown",
   "id": "7bda125b-fdad-4d08-b9d9-78554184becd",
   "metadata": {},
   "source": [
    "### Lab 2 Problem 3"
   ]
  },
  {
   "cell_type": "code",
   "execution_count": 65,
   "id": "efc53476-45ef-4f37-8e04-162777279fea",
   "metadata": {},
   "outputs": [
    {
     "name": "stdin",
     "output_type": "stream",
     "text": [
      "Enter a noun: fire\n",
      "Enter a verb: swim\n",
      "Enter another verb (past tense): ran\n",
      "Enter a adjective: jealous\n",
      "Enter another adjective: kind\n",
      "Enter an emotion (past tense): loved\n"
     ]
    },
    {
     "name": "stdout",
     "output_type": "stream",
     "text": [
      "\n",
      "A fire likes to swim through the sky. The fire wanted to be a hero and ran at the first sign of trouble. Despite his jealous attitude, he still had a lot to learn. Thankfully, another kind hero who fire always loved made fire the greatest hero in the city.\n"
     ]
    }
   ],
   "source": [
    "# Author: Sejay Noupin\n",
    "# This program is to create your own story\n",
    "noun = input(\"Enter a noun:\")\n",
    "verb = input(\"Enter a verb:\")\n",
    "verb2 = input(\"Enter another verb (past tense):\")\n",
    "adjective = input(\"Enter a adjective:\")\n",
    "adjective2 = input(\"Enter another adjective:\")\n",
    "emotion = input(\"Enter an emotion (past tense):\")\n",
    "\n",
    "print (\"\\nA \" + noun + \" likes to \" + verb + \" through the sky. \" + \n",
    "      \"The \" + noun + \" wanted to be a hero and \" + verb2 +\n",
    "      \" at the first sign of trouble.\")\n",
    "print (\"Despite his \" + adjective + \" attitude, he still had a lot to learn. \" +\n",
    "      \"Thankfully, another \" + adjective2 + \" hero who \" + noun + \n",
    "      \" always \"  + emotion + \" made \" + noun + \" the greatest hero in the city.\")"
   ]
  }
 ],
 "metadata": {
  "kernelspec": {
   "display_name": "Python 3 (ipykernel)",
   "language": "python",
   "name": "python3"
  },
  "language_info": {
   "codemirror_mode": {
    "name": "ipython",
    "version": 3
   },
   "file_extension": ".py",
   "mimetype": "text/x-python",
   "name": "python",
   "nbconvert_exporter": "python",
   "pygments_lexer": "ipython3",
   "version": "3.12.4"
  }
 },
 "nbformat": 4,
 "nbformat_minor": 5
}
