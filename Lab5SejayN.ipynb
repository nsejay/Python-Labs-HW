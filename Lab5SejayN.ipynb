{
 "cells": [
  {
   "cell_type": "markdown",
   "id": "a495095d-ea33-458a-87e2-aab8a50c80c0",
   "metadata": {},
   "source": [
    "### Lab 5 Problem 1\n",
    "#### PseudoCode\n",
    "##### Print a line of stars\n",
    "##### Find the sum of two numbers\n",
    "##### In main function ask user for two numbers\n",
    "##### Run a loop that will print succesive lines of stars\n",
    "##### based on the sum of the numbers the user picked"
   ]
  },
  {
   "cell_type": "code",
   "execution_count": 55,
   "id": "181d75a3-94c3-4055-bff3-44b3d32f93ef",
   "metadata": {},
   "outputs": [
    {
     "name": "stdin",
     "output_type": "stream",
     "text": [
      "Please enter a number: 1\n",
      "Please enter another number: 3\n"
     ]
    },
    {
     "name": "stdout",
     "output_type": "stream",
     "text": [
      "The sum is 4 \n",
      "\n",
      "*******\n",
      "*******\n",
      "*******\n",
      "*******\n"
     ]
    }
   ],
   "source": [
    "# Author: Sejay Noupin\n",
    "# Purpose: The purpose of this program is to create lines of stars\n",
    "# Purpose: Based on the sum of two numbers\n",
    "\n",
    "def print_stars() :\n",
    "    \"\"\"\n",
    "    This function will print a line of seven stars\n",
    "    \"\"\"\n",
    "    print(\"*******\")\n",
    "def add_them(num1,num2) :\n",
    "    \"\"\"\n",
    "    This function will find the sum of two numbers\n",
    "    \"\"\"\n",
    "    return num1 + num2\n",
    "    \n",
    "def main() :\n",
    "    \"\"\"\n",
    "    This is the main function\n",
    "    \"\"\"\n",
    "    number1 = int(input(\"Please enter a number:\"))\n",
    "    number2 = int(input(\"Please enter another number:\"))\n",
    "    print(\"The sum is\", add_them(number1,number2),'\\n')\n",
    "    \n",
    "    for i in range(add_them(number1,number2)) :\n",
    "        print_stars()\n",
    "\n",
    "if __name__ == \"__main__\" :\n",
    "    main()"
   ]
  },
  {
   "cell_type": "markdown",
   "id": "73f32c29-540d-4590-a7e9-e490724d5387",
   "metadata": {},
   "source": [
    "### Lab 5 Problem 2\n",
    "#### Pseudocode\n",
    "##### Use a for loop to add even integers between 0 to 100\n",
    "##### Use a for loop to add odd integers between 0 to 100\n",
    "##### Create a main function which will display those sums"
   ]
  },
  {
   "cell_type": "code",
   "execution_count": 29,
   "id": "e8ba38dc-378b-493e-83ff-96e40a7786ce",
   "metadata": {},
   "outputs": [
    {
     "name": "stdout",
     "output_type": "stream",
     "text": [
      "The sum of the even integers between 0 and 100 is: 2550\n",
      "The sum of the odd integers between 0 and 100 is: 2500\n"
     ]
    }
   ],
   "source": [
    "# Author: Sejay Noupin\n",
    "# Purpose: The purpose of this program is to show the sum of\n",
    "# Purpose: even and odd integers between 0 to 100\n",
    "\n",
    "def even_integers() :\n",
    "    \"\"\"\n",
    "    This function adds the sum of even integers from 0 to 100\n",
    "    \"\"\"\n",
    "    sum_even = 0\n",
    "    \n",
    "    for num in range(0,101,2) :\n",
    "        sum_even += num    \n",
    "    return sum_even\n",
    "\n",
    "def odd_integers() :\n",
    "    \"\"\"\n",
    "    This function adds the sum of odd integers from 0 to 100\n",
    "    \"\"\"\n",
    "    sum_odd = 0\n",
    "\n",
    "    for num in range(1,100,2) :\n",
    "        sum_odd += num\n",
    "    return sum_odd\n",
    "\n",
    "def main() :\n",
    "    \"\"\"\n",
    "    This is the main function\n",
    "    \"\"\"\n",
    "    print(\"The sum of the even integers between 0 and 100 is:\", even_integers())\n",
    "    print(\"The sum of the odd integers between 0 and 100 is:\", odd_integers())\n",
    "\n",
    "if __name__ == \"__main__\" :\n",
    "    main()"
   ]
  },
  {
   "cell_type": "markdown",
   "id": "b91dc2f2-2ac3-4cd9-ac36-e8e1683c5707",
   "metadata": {},
   "source": [
    "### Lab 5 Problem 3\n",
    "#### Pseudocode\n",
    "##### Use modulus operator to determine if a number is even or odd\n",
    "##### Create a loop to allow repeated user input on whether or not\n",
    "##### a number is even or odd"
   ]
  },
  {
   "cell_type": "code",
   "execution_count": 49,
   "id": "9fac6726-945f-4393-899d-d36ee489636c",
   "metadata": {},
   "outputs": [
    {
     "name": "stdout",
     "output_type": "stream",
     "text": [
      "Welcome to the Even/Odd Tester!\n"
     ]
    },
    {
     "name": "stdin",
     "output_type": "stream",
     "text": [
      "\n",
      "Enter an integer: 1022\n"
     ]
    },
    {
     "name": "stdout",
     "output_type": "stream",
     "text": [
      "\n",
      "You entered 1022 which is an even number.\n"
     ]
    },
    {
     "name": "stdin",
     "output_type": "stream",
     "text": [
      "\n",
      "Do you want to enter another number(y/n)? y\n",
      "\n",
      "Enter an integer: 1021\n"
     ]
    },
    {
     "name": "stdout",
     "output_type": "stream",
     "text": [
      "\n",
      "You entered 1021 which is an odd number.\n"
     ]
    },
    {
     "name": "stdin",
     "output_type": "stream",
     "text": [
      "\n",
      "Do you want to enter another number(y/n)? n\n"
     ]
    },
    {
     "name": "stdout",
     "output_type": "stream",
     "text": [
      "\n",
      "Hasta la vista, baby!\n"
     ]
    }
   ],
   "source": [
    "# Author: Sejay Noupin\n",
    "# Purpose: The purpose of this program is to test if a number\n",
    "# Purpose: is even or odd\n",
    "\n",
    "def even_odd_tester(integer) :\n",
    "    \"\"\"\n",
    "    This function tests whether a number is even or odd\n",
    "    \"\"\"\n",
    "    if (integer % 2) == 0 :\n",
    "        return True\n",
    "    else :\n",
    "        return False\n",
    "\n",
    "def main() :\n",
    "    \"\"\"\n",
    "    This is the main function\n",
    "    \"\"\"\n",
    "    print(\"Welcome to the Even/Odd Tester!\")\n",
    "    choice = 'y'\n",
    "    \n",
    "    while choice == 'y' :\n",
    "        number = int(input(\"\\nEnter an integer:\"))\n",
    "        print()\n",
    "        if even_odd_tester(number) :\n",
    "            print(\"You entered\", number, \"which is an even number.\")\n",
    "        else :\n",
    "            print(\"You entered\", number, \"which is an odd number.\")\n",
    "            \n",
    "        choice = input(\"\\nDo you want to enter another number(y/n)?\")\n",
    "\n",
    "    print(\"\\nHasta la vista, baby!\")\n",
    "\n",
    "if __name__ == \"__main__\" :\n",
    "    main()"
   ]
  }
 ],
 "metadata": {
  "kernelspec": {
   "display_name": "Python 3 (ipykernel)",
   "language": "python",
   "name": "python3"
  },
  "language_info": {
   "codemirror_mode": {
    "name": "ipython",
    "version": 3
   },
   "file_extension": ".py",
   "mimetype": "text/x-python",
   "name": "python",
   "nbconvert_exporter": "python",
   "pygments_lexer": "ipython3",
   "version": "3.12.4"
  }
 },
 "nbformat": 4,
 "nbformat_minor": 5
}
