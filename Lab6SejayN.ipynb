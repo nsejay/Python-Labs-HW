{
 "cells": [
  {
   "cell_type": "markdown",
   "id": "32153d7c-7732-4403-8b62-1dc758674974",
   "metadata": {},
   "source": [
    "## Lab 6 Problem 1\n",
    "### Title: Game Manager"
   ]
  },
  {
   "cell_type": "code",
   "execution_count": 32,
   "id": "d36fe8a3-2b17-42f2-bbb0-cb8fa8e99f84",
   "metadata": {},
   "outputs": [
    {
     "name": "stdout",
     "output_type": "stream",
     "text": [
      "COMMAND MENU\n",
      "list - Display all games\n",
      "view - View a game\n",
      "add - Add a game\n",
      "del - Delete a game\n",
      "exit - Exit program\n"
     ]
    },
    {
     "name": "stdin",
     "output_type": "stream",
     "text": [
      "\n",
      "Command: del\n",
      "Number: 2\n"
     ]
    },
    {
     "name": "stdout",
     "output_type": "stream",
     "text": [
      "Super Smash Brothers was deleted.\n",
      "\n",
      "COMMAND MENU\n",
      "list - Display all games\n",
      "view - View a game\n",
      "add - Add a game\n",
      "del - Delete a game\n",
      "exit - Exit program\n"
     ]
    },
    {
     "name": "stdin",
     "output_type": "stream",
     "text": [
      "\n",
      "Command: del\n",
      "Number: 1\n"
     ]
    },
    {
     "name": "stdout",
     "output_type": "stream",
     "text": [
      "Mario Kart 8 was deleted.\n",
      "\n",
      "COMMAND MENU\n",
      "list - Display all games\n",
      "view - View a game\n",
      "add - Add a game\n",
      "del - Delete a game\n",
      "exit - Exit program\n"
     ]
    },
    {
     "name": "stdin",
     "output_type": "stream",
     "text": [
      "\n",
      "Command: del\n",
      "Number: 1\n"
     ]
    },
    {
     "name": "stdout",
     "output_type": "stream",
     "text": [
      "Fortnite was deleted.\n",
      "\n",
      "COMMAND MENU\n",
      "list - Display all games\n",
      "view - View a game\n",
      "add - Add a game\n",
      "del - Delete a game\n",
      "exit - Exit program\n"
     ]
    },
    {
     "name": "stdin",
     "output_type": "stream",
     "text": [
      "\n",
      "Command: list\n"
     ]
    },
    {
     "name": "stdout",
     "output_type": "stream",
     "text": [
      "There are no games in this list\n",
      "\n",
      "COMMAND MENU\n",
      "list - Display all games\n",
      "view - View a game\n",
      "add - Add a game\n",
      "del - Delete a game\n",
      "exit - Exit program\n"
     ]
    },
    {
     "name": "stdin",
     "output_type": "stream",
     "text": [
      "\n",
      "Command: view\n",
      "Number: 1\n"
     ]
    },
    {
     "name": "stdout",
     "output_type": "stream",
     "text": [
      "Invalid game number\n",
      "\n",
      "COMMAND MENU\n",
      "list - Display all games\n",
      "view - View a game\n",
      "add - Add a game\n",
      "del - Delete a game\n",
      "exit - Exit program\n"
     ]
    },
    {
     "name": "stdin",
     "output_type": "stream",
     "text": [
      "\n",
      "Command: del\n",
      "Number: 1\n"
     ]
    },
    {
     "name": "stdout",
     "output_type": "stream",
     "text": [
      "Invalid game number\n",
      "\n",
      "COMMAND MENU\n",
      "list - Display all games\n",
      "view - View a game\n",
      "add - Add a game\n",
      "del - Delete a game\n",
      "exit - Exit program\n"
     ]
    },
    {
     "name": "stdin",
     "output_type": "stream",
     "text": [
      "\n",
      "Command: add\n",
      "Game: Mario Kart 8\n",
      "High Scorer Email: gif@email.com\n",
      "High Score: 654,123\n"
     ]
    },
    {
     "name": "stdout",
     "output_type": "stream",
     "text": [
      "Mario Kart 8 was added.\n",
      "\n",
      "COMMAND MENU\n",
      "list - Display all games\n",
      "view - View a game\n",
      "add - Add a game\n",
      "del - Delete a game\n",
      "exit - Exit program\n"
     ]
    },
    {
     "name": "stdin",
     "output_type": "stream",
     "text": [
      "\n",
      "Command: add\n",
      "Game: Minecraft\n",
      "High Scorer Email: paula@tobeystuff.com\n",
      "High Score: 554,123\n"
     ]
    },
    {
     "name": "stdout",
     "output_type": "stream",
     "text": [
      "Minecraft was added.\n",
      "\n",
      "COMMAND MENU\n",
      "list - Display all games\n",
      "view - View a game\n",
      "add - Add a game\n",
      "del - Delete a game\n",
      "exit - Exit program\n"
     ]
    },
    {
     "name": "stdin",
     "output_type": "stream",
     "text": [
      "\n",
      "Command: list\n"
     ]
    },
    {
     "name": "stdout",
     "output_type": "stream",
     "text": [
      "1. Mario Kart 8\n",
      "2. Minecraft\n",
      "\n",
      "COMMAND MENU\n",
      "list - Display all games\n",
      "view - View a game\n",
      "add - Add a game\n",
      "del - Delete a game\n",
      "exit - Exit program\n"
     ]
    },
    {
     "name": "stdin",
     "output_type": "stream",
     "text": [
      "\n",
      "Command: view\n",
      "Number: 1\n"
     ]
    },
    {
     "name": "stdout",
     "output_type": "stream",
     "text": [
      "Game: Mario Kart 8\n",
      "High Scorer Email: gif@email.com\n",
      "High Score: 654,123\n",
      "\n",
      "COMMAND MENU\n",
      "list - Display all games\n",
      "view - View a game\n",
      "add - Add a game\n",
      "del - Delete a game\n",
      "exit - Exit program\n"
     ]
    },
    {
     "name": "stdin",
     "output_type": "stream",
     "text": [
      "\n",
      "Command: exit\n"
     ]
    },
    {
     "name": "stdout",
     "output_type": "stream",
     "text": [
      "Bye!\n"
     ]
    }
   ],
   "source": [
    "# Author: Sejay Noupin\n",
    "# Purpose: The purpose of this program is to view a list\n",
    "# Purpose: of games and the high scorer for each game\n",
    "\n",
    "def display_menu() :\n",
    "    \"\"\"\n",
    "    This function runs the program to display the\n",
    "    menu and the choices you are able to make\n",
    "    \"\"\"\n",
    "    \n",
    "    print(\"COMMAND MENU\")\n",
    "    print(\"list - Display all games\")\n",
    "    print(\"view - View a game\")\n",
    "    print(\"add - Add a game\")\n",
    "    print(\"del - Delete a game\")\n",
    "    print(\"exit - Exit program\")\n",
    "\n",
    "def list(game_list) :\n",
    "    \"\"\"\n",
    "    This function runs the program to display\n",
    "    the games that are already in the list\n",
    "    \"\"\"\n",
    "    \n",
    "    if len(game_list) == 0 :\n",
    "        print(\"There are no games in this list\")\n",
    "    else :\n",
    "        i = 1\n",
    "        for row in game_list :\n",
    "            print(str(i) + \". \" + row[0])\n",
    "            i += 1\n",
    "    print()\n",
    "\n",
    "def view(game_list) :\n",
    "    \"\"\"\n",
    "    This function shows the email of the high scorer\n",
    "    and the high score of the selected game\n",
    "    \"\"\"\n",
    "    \n",
    "    number = int(input(\"Number:\"))\n",
    "    if number < 1 or number > len(game_list) :\n",
    "        print(\"Invalid game number\")\n",
    "    else :\n",
    "        print(\"Game: \" + game_list[number - 1][0])\n",
    "        print(\"High Scorer Email: \" + game_list[number - 1][1])\n",
    "        print(\"High Score: \" + game_list[number - 1][2])\n",
    "    print()\n",
    "    \n",
    "def add(game_list) :\n",
    "    \"\"\"\n",
    "    This function runs the program to \n",
    "    add another game to the list\n",
    "    \"\"\"\n",
    "    \n",
    "    name = input(\"Game:\")\n",
    "    high_scorer = input(\"High Scorer Email:\")\n",
    "    high_score = (input(\"High Score:\"))\n",
    "    game = []\n",
    "    game.append(name)\n",
    "    game.append(high_scorer)\n",
    "    game.append(high_score)\n",
    "    game_list.append(game)\n",
    "    print(game[0] + \" was added.\\n\")\n",
    "\n",
    "def delete(game_list) :\n",
    "    \"\"\"\n",
    "    This function runs the program \n",
    "    to delete a movie from the list\n",
    "    \"\"\"\n",
    "    \n",
    "    number = int(input(\"Number:\"))\n",
    "    if number < 1 or number > len(game_list) :\n",
    "        print(\"Invalid game number\")\n",
    "    else :\n",
    "        game = game_list.pop(number-1)\n",
    "        print(game[0] + \" was deleted.\")\n",
    "    print()\n",
    "    \n",
    "def main() :\n",
    "    \"\"\"\n",
    "    This is the main function that is called \n",
    "    in order to run the entire program\n",
    "    \"\"\"\n",
    "    \n",
    "    game_list = [[\"Mario Kart 8\", \"gif@email.com\", \"654,321\"], \n",
    "                 [\"Super Smash Brothers\", \"meme@me.com\", \"23,458\"], \n",
    "                 [\"Fortnite\", \"beast@ninja.com\", \"74,351\"]]\n",
    "    \n",
    "    display_menu()\n",
    "    command = input(\"\\nCommand:\")\n",
    "\n",
    "    while command.lower() != \"exit\" :\n",
    "        \n",
    "        if command.lower() == \"list\" :\n",
    "            list(game_list)\n",
    "        elif command.lower() == \"view\" :\n",
    "            view(game_list)\n",
    "        elif command.lower() == \"add\" :\n",
    "            add(game_list)\n",
    "        elif command.lower() == \"del\" :\n",
    "            delete(game_list)\n",
    "        else :\n",
    "            print(\"Not a valid command. Please try again\\n\")\n",
    "        \n",
    "        display_menu()\n",
    "        command = input(\"\\nCommand:\")\n",
    "    print(\"Bye!\")\n",
    "\n",
    "if __name__ == \"__main__\" :\n",
    "    main()"
   ]
  }
 ],
 "metadata": {
  "kernelspec": {
   "display_name": "Python 3 (ipykernel)",
   "language": "python",
   "name": "python3"
  },
  "language_info": {
   "codemirror_mode": {
    "name": "ipython",
    "version": 3
   },
   "file_extension": ".py",
   "mimetype": "text/x-python",
   "name": "python",
   "nbconvert_exporter": "python",
   "pygments_lexer": "ipython3",
   "version": "3.12.4"
  }
 },
 "nbformat": 4,
 "nbformat_minor": 5
}
