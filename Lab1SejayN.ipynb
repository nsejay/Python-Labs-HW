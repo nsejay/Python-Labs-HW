{
 "cells": [
  {
   "cell_type": "code",
   "execution_count": 1,
   "id": "f82e9567-6ebc-4e2f-b2a3-cdcbf1a19ee2",
   "metadata": {},
   "outputs": [
    {
     "data": {
      "text/plain": [
       "7"
      ]
     },
     "execution_count": 1,
     "metadata": {},
     "output_type": "execute_result"
    }
   ],
   "source": [
    "2 + 5"
   ]
  },
  {
   "cell_type": "code",
   "execution_count": 3,
   "id": "a372ab1c-df29-493c-91d3-9aeee09d60b3",
   "metadata": {},
   "outputs": [
    {
     "data": {
      "text/plain": [
       "21"
      ]
     },
     "execution_count": 3,
     "metadata": {},
     "output_type": "execute_result"
    }
   ],
   "source": [
    "3*7"
   ]
  },
  {
   "cell_type": "code",
   "execution_count": 5,
   "id": "8efe0143-3603-4107-ad29-1e66acdbc5f1",
   "metadata": {},
   "outputs": [
    {
     "data": {
      "text/plain": [
       "16"
      ]
     },
     "execution_count": 5,
     "metadata": {},
     "output_type": "execute_result"
    }
   ],
   "source": [
    "21-5"
   ]
  },
  {
   "cell_type": "code",
   "execution_count": 8,
   "id": "0e5c7138-8c71-47ee-923c-8f728a68cc2b",
   "metadata": {},
   "outputs": [
    {
     "data": {
      "text/plain": [
       "4.0"
      ]
     },
     "execution_count": 8,
     "metadata": {},
     "output_type": "execute_result"
    }
   ],
   "source": [
    "16/4"
   ]
  },
  {
   "cell_type": "code",
   "execution_count": 14,
   "id": "8ca6bad2-1bbf-4a3f-801c-f85adc0fe6af",
   "metadata": {},
   "outputs": [
    {
     "name": "stdout",
     "output_type": "stream",
     "text": [
      "I am happy to take this class\n"
     ]
    }
   ],
   "source": [
    "print (\"I am happy to take this class\")"
   ]
  },
  {
   "cell_type": "code",
   "execution_count": 16,
   "id": "a4f51a09-3e15-4aab-aecc-f739f036762a",
   "metadata": {},
   "outputs": [
    {
     "name": "stdout",
     "output_type": "stream",
     "text": [
      "I used to play soccer\n"
     ]
    }
   ],
   "source": [
    "print (\"I used to play soccer\")"
   ]
  },
  {
   "cell_type": "code",
   "execution_count": 18,
   "id": "db62e115-ba3a-4b95-b63e-4eb239c8b7da",
   "metadata": {},
   "outputs": [
    {
     "name": "stdout",
     "output_type": "stream",
     "text": [
      "20\n",
      "70\n",
      "30\n",
      "50\n"
     ]
    },
    {
     "ename": "NameError",
     "evalue": "name 'num_2' is not defined",
     "output_type": "error",
     "traceback": [
      "\u001b[1;31m---------------------------------------------------------------------------\u001b[0m",
      "\u001b[1;31mNameError\u001b[0m                                 Traceback (most recent call last)",
      "Cell \u001b[1;32mIn[18], line 7\u001b[0m\n\u001b[0;32m      5\u001b[0m \u001b[38;5;28mprint\u001b[39m (num2)\n\u001b[0;32m      6\u001b[0m \u001b[38;5;28mprint\u001b[39m (num1 \u001b[38;5;241m+\u001b[39m num2)\n\u001b[1;32m----> 7\u001b[0m \u001b[38;5;28mprint\u001b[39m (num_2)\n",
      "\u001b[1;31mNameError\u001b[0m: name 'num_2' is not defined"
     ]
    }
   ],
   "source": [
    "num1 = 20\n",
    "num2 = 30\n",
    "print (num1)\n",
    "print (num1 + 50)\n",
    "print (num2)\n",
    "print (num1 + num2)\n",
    "print (num_2)"
   ]
  },
  {
   "cell_type": "code",
   "execution_count": 20,
   "id": "2c969bd8-510b-4272-8ef1-5715bada6868",
   "metadata": {},
   "outputs": [
    {
     "name": "stdout",
     "output_type": "stream",
     "text": [
      "20\n",
      "70\n",
      "30\n",
      "50\n",
      "30\n"
     ]
    }
   ],
   "source": [
    "num1 = 20\n",
    "num2 = 30\n",
    "print (num1)\n",
    "print (num1 + 50)\n",
    "print (num2)\n",
    "print (num1 + num2)\n",
    "print (num2)"
   ]
  },
  {
   "cell_type": "code",
   "execution_count": null,
   "id": "ad929187-5961-4834-af03-9ab10bb9c57d",
   "metadata": {},
   "outputs": [],
   "source": []
  }
 ],
 "metadata": {
  "kernelspec": {
   "display_name": "Python 3 (ipykernel)",
   "language": "python",
   "name": "python3"
  },
  "language_info": {
   "codemirror_mode": {
    "name": "ipython",
    "version": 3
   },
   "file_extension": ".py",
   "mimetype": "text/x-python",
   "name": "python",
   "nbconvert_exporter": "python",
   "pygments_lexer": "ipython3",
   "version": "3.12.4"
  }
 },
 "nbformat": 4,
 "nbformat_minor": 5
}
