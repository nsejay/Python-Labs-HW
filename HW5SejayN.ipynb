{
 "cells": [
  {
   "cell_type": "markdown",
   "id": "cb30d1a7-6fd9-46a0-a25e-44e69ef08944",
   "metadata": {},
   "source": [
    "### Homework 5 Problem 1"
   ]
  },
  {
   "cell_type": "code",
   "execution_count": null,
   "id": "21b14cd3-d227-4495-8e62-9d3c5dfaee92",
   "metadata": {},
   "outputs": [
    {
     "name": "stdout",
     "output_type": "stream",
     "text": [
      "Would you like to play rock-paper-scissors, the Dating Equation Game, or see some art?\n"
     ]
    },
    {
     "name": "stdin",
     "output_type": "stream",
     "text": [
      "\n",
      "Type 'a' for rock-paper-scissors, 'b' for the dating game, or 'c' for art: c\n",
      "\n",
      "Would you like to play another game. Enter (y/n): n\n"
     ]
    }
   ],
   "source": [
    "# Author: Sejay Noupin\n",
    "# Purpose: The purpose of this program is to choose between the dating equation, \n",
    "# the rock paper scissors game, or the turtle drawing program to run\n",
    "\n",
    "def dating() :\n",
    "    \"\"\"\n",
    "    This function runs the program for the dating equation game.\n",
    "    \"\"\"\n",
    "    relationship = input (\"Is your love interest single? (Yes or no):\")\n",
    "\n",
    "    if relationship == \"Yes\" or relationship == \"yes\" :\n",
    "        your_age = int(input (\"\\nEnter your age:\"))\n",
    "        love_interest_age = int(input(\"Enter your love interest age:\"))\n",
    "        if love_interest_age < your_age / 2 + 7 :\n",
    "            print (\"You are creepy... find someo ne your own age!\")\n",
    "        elif love_interest_age > (your_age - 7) * 2 :\n",
    "            print (\"\\nFind someone else, they're too old for you!\")\n",
    "        else :\n",
    "            print (\"\\nYou are good to go!\")\n",
    "    else :\n",
    "        print (\"\\nUnfortunately, they're already in a relationship\")\n",
    "\n",
    "def rock_paper_scissors() :\n",
    "    \"\"\"\n",
    "    This function runs the program for the rock-paper-scissors game.\n",
    "    \"\"\"\n",
    "    import random\n",
    "\n",
    "    print(\"Welcome to my game!\")\n",
    "\n",
    "    player = input(\"Do you want to be 'rock', 'paper', or 'scissors'? \")\n",
    "    print(\"You are \", player)\n",
    "\n",
    "    computer = random.choice(['rock', 'paper', 'scissors'])\n",
    "    print(\"The computer has\", computer)\n",
    "\n",
    "    if player == computer :\n",
    "        print(\"It's a TIE!\")\n",
    "    else:\n",
    "        if player == 'rock' :\n",
    "            if computer == 'scissors' :\n",
    "                print(\"You WIN!\")\n",
    "            else :\n",
    "                print(\"You LOSE!\")\n",
    "        elif player == 'scissors' :\n",
    "            if computer == 'paper':\n",
    "                print(\"You WIN!\")\n",
    "            else :\n",
    "                print(\"You LOSE!\")\n",
    "        else :\n",
    "            if computer == 'rock' :\n",
    "                print(\"You WIN!\")\n",
    "            else :\n",
    "                print(\"You LOSE!\")\n",
    "\n",
    "def turtle_drawing() :\n",
    "    \"\"\"\n",
    "    This function runs the program for the turtle drawing.\n",
    "    \"\"\"\n",
    "    import turtle as t\n",
    "    degrees = 120\n",
    "    t.forward(40)\n",
    "    t.left(degrees)\n",
    "    t.forward(80)\n",
    "    t.left(degrees)\n",
    "    t.forward(80)\n",
    "    t.left(degrees)\n",
    "    t.forward(40)\n",
    "    t.hideturtle()\n",
    "    t.done()\n",
    "\n",
    "def main() :\n",
    "    \"\"\"\n",
    "    This is the main function\n",
    "    \"\"\"\n",
    "    print (\"Would you like to play rock-paper-scissors, the Dating Equation Game, or see some art?\")\n",
    "    choice1 = input(\"\\nType 'a' for rock-paper-scissors, 'b' for the dating game, or 'c' for art:\")\n",
    "\n",
    "    while choice1.lower() != 'a' and choice1.lower() != 'b' and choice1.lower() != 'c' :\n",
    "        print(\"\\nPlease select 'a', 'b', or 'c'. \")\n",
    "        choice1 = input(\"Type 'a' for rock-paper-scissors, 'b' for the dating game, or 'c' for art:\")\n",
    "\n",
    "    if choice1.lower() == 'a' :\n",
    "        print()\n",
    "        rock_paper_scissors()\n",
    "    elif choice1.lower() == 'b' :\n",
    "        print()\n",
    "        dating()\n",
    "    else :\n",
    "        turtle_drawing()\n",
    "\n",
    "    choice2 = input(\"\\nWould you like to play another game. Enter (y/n):\")\n",
    "\n",
    "    while choice2.lower() == 'y' :\n",
    "        choice1 = input(\"\\nType 'a' for rock-paper-scissors, 'b' for the dating game, or 'c' for art:\")\n",
    "        \n",
    "        while choice1.lower() != 'a' and choice1.lower() != 'b' and choice1.lower() != 'c' :\n",
    "            print(\"Please select 'a', 'b', or 'c'. \")\n",
    "            choice1 = input(\"Type 'a' for rock-paper-scissors, 'b' for the dating game, or 'c' for art:\")\n",
    "\n",
    "        if choice1.lower() == 'a' :\n",
    "            print()\n",
    "            rock_paper_scissors()\n",
    "        elif choice1.lower() == 'b' :\n",
    "            print()\n",
    "            dating()\n",
    "        else :\n",
    "            turtle_drawing()\n",
    "\n",
    "        choice2 = input(\"\\nWould you like to play another game. Enter (y/n):\")\n",
    "\n",
    "    print(\"Thanks for playing.\")\n",
    "        \n",
    "if __name__ == \"__main__\" :\n",
    "    main()"
   ]
  },
  {
   "cell_type": "markdown",
   "id": "2e912490-21a6-4905-a548-03b2818123ff",
   "metadata": {},
   "source": [
    "### Homework 5 Problem 2"
   ]
  },
  {
   "cell_type": "code",
   "execution_count": 3,
   "id": "02abab18-5171-4e65-b31f-8d778715ea9f",
   "metadata": {},
   "outputs": [
    {
     "name": "stdout",
     "output_type": "stream",
     "text": [
      "Would you like to cube a number, find out which 2 numbers are closer to 23 or roll some dices?\n"
     ]
    },
    {
     "name": "stdin",
     "output_type": "stream",
     "text": [
      "Type 'a' for cubed, 'b' for closer to 23, or 'c' to roll some dice. a\n"
     ]
    },
    {
     "name": "stdout",
     "output_type": "stream",
     "text": [
      "\n"
     ]
    },
    {
     "name": "stdin",
     "output_type": "stream",
     "text": [
      "Pick a number: 5\n"
     ]
    },
    {
     "name": "stdout",
     "output_type": "stream",
     "text": [
      "5 cubed is 125\n"
     ]
    },
    {
     "name": "stdin",
     "output_type": "stream",
     "text": [
      "\n",
      "Would you like to play another game. Enter (y/n): y\n",
      "Type 'a' for cubed, 'b' for closer to 23, or 'c' to roll some dice. b\n"
     ]
    },
    {
     "name": "stdout",
     "output_type": "stream",
     "text": [
      "\n"
     ]
    },
    {
     "name": "stdin",
     "output_type": "stream",
     "text": [
      "Pick a number: 27\n",
      "Pick a second number: -22\n"
     ]
    },
    {
     "name": "stdout",
     "output_type": "stream",
     "text": [
      "\n",
      " 27 is closer to 23\n"
     ]
    },
    {
     "name": "stdin",
     "output_type": "stream",
     "text": [
      "\n",
      "Would you like to play another game. Enter (y/n): y\n",
      "Type 'a' for cubed, 'b' for closer to 23, or 'c' to roll some dice. c\n"
     ]
    },
    {
     "name": "stdout",
     "output_type": "stream",
     "text": [
      "\n",
      "Two dice are going to be rolled\n",
      "\n",
      "Die 1 rolled a 2\n",
      "\n",
      "Die 2 rolled a 5\n",
      "\n",
      "The sum of the rolled numbers is 7\n"
     ]
    },
    {
     "name": "stdin",
     "output_type": "stream",
     "text": [
      "\n",
      "Would you like to play another game. Enter (y/n): n\n"
     ]
    },
    {
     "name": "stdout",
     "output_type": "stream",
     "text": [
      "Thanks for playing.\n"
     ]
    }
   ],
   "source": [
    "# Author: Sejay Noupin\n",
    "# Purpose: The purpose of this program is to find the cube of a number\n",
    "# Purpose: Compare 2 numbers to see which is closer to 23\n",
    "# Purpose: And find the sum of the number 2 dices land on\n",
    "\n",
    "def cube(x) :\n",
    "    \"\"\"\n",
    "    This function is to find the cube of any number.\n",
    "    \"\"\"\n",
    "    return x ** 3\n",
    "\n",
    "def close_to_23(x,y) :\n",
    "    \"\"\"\n",
    "    This function is to pick 2 numbers and find out which is closer to 23.\n",
    "    \"\"\"\n",
    "    if abs(x - 23) > abs(y - 23) :\n",
    "        return y\n",
    "    else :\n",
    "        return x\n",
    "\n",
    "def sum_dice_roll() :\n",
    "    \"\"\"\n",
    "    This function is to roll to dice and find out the sum of the numbers they land on.\n",
    "    \"\"\"\n",
    "    import random\n",
    "    \n",
    "    die1 = random.choice([1,2,3,4,5,6])\n",
    "    print(\"Die 1 rolled a\", die1)\n",
    "    die2 = random.choice([1,2,3,4,5,6])\n",
    "    print(\"\\nDie 2 rolled a\", die2)\n",
    "    \n",
    "    return die1 + die2\n",
    "\n",
    "def main() :\n",
    "    print(\"Would you like to cube a number, find out which 2 numbers are closer to 23 or roll some dices?\")\n",
    "    choice1 = input(\"Type 'a' for cubed, 'b' for closer to 23, or 'c' to roll some dice.\")\n",
    "    print()\n",
    "    \n",
    "    while choice1.lower() != 'a' and choice1.lower() != 'b' and choice1.lower() != 'c' :\n",
    "        print(\"Please select 'a', 'b', or 'c'. \")\n",
    "        choice1 = input(\"Type 'a' for cubed, 'b' for closer to 23, or 'c' to roll some dice.\")\n",
    "        print()\n",
    "\n",
    "    if choice1.lower() == 'a' :\n",
    "        number = int(input(\"Pick a number:\"))\n",
    "        print(number, \"cubed is\", cube(number))\n",
    "    elif choice1.lower() == 'b' :\n",
    "        number1 = int(input(\"Pick a number:\"))\n",
    "        number2 = int(input(\"Pick a second number:\"))\n",
    "        print('\\n', close_to_23(number1, number2), \"is closer to 23\")\n",
    "    elif choice1.lower() == 'c' :\n",
    "        print(\"Two dice are going to be rolled\\n\")\n",
    "        print(\"\\nThe sum of the rolled numbers is\", sum_dice_roll())\n",
    "\n",
    "    choice2 = input(\"\\nWould you like to play another game. Enter (y/n):\")\n",
    "\n",
    "    while choice2.lower() == 'y' :\n",
    "        choice1 = input(\"Type 'a' for cubed, 'b' for closer to 23, or 'c' to roll some dice.\")\n",
    "        print()\n",
    "    \n",
    "        while choice1.lower() != 'a' and choice1.lower() != 'b' and choice1.lower() != 'c' :\n",
    "            print(\"Please select 'a', 'b', or 'c'. \")\n",
    "            choice1 = input(\"Type 'a' for cubed, 'b' for closer to 23, or 'c' to roll some dice.\")\n",
    "            print()\n",
    "\n",
    "        if choice1.lower() == 'a' :\n",
    "            number = int(input(\"Pick a number:\"))\n",
    "            print(number, \"cubed is\", cube(number))\n",
    "        elif choice1.lower() == 'b' :\n",
    "            number1 = int(input(\"Pick a number:\"))\n",
    "            number2 = int(input(\"Pick a second number:\"))\n",
    "            print('\\n', close_to_23(number1, number2), \"is closer to 23\")\n",
    "        else :\n",
    "            print(\"Two dice are going to be rolled\\n\")\n",
    "            print(\"\\nThe sum of the rolled numbers is\", sum_dice_roll())\n",
    "\n",
    "        choice2 = input(\"\\nWould you like to play another game. Enter (y/n):\")\n",
    "\n",
    "    print(\"Thanks for playing.\")       \n",
    "        \n",
    "if __name__ == \"__main__\" :\n",
    "    main()"
   ]
  }
 ],
 "metadata": {
  "kernelspec": {
   "display_name": "Python 3 (ipykernel)",
   "language": "python",
   "name": "python3"
  },
  "language_info": {
   "codemirror_mode": {
    "name": "ipython",
    "version": 3
   },
   "file_extension": ".py",
   "mimetype": "text/x-python",
   "name": "python",
   "nbconvert_exporter": "python",
   "pygments_lexer": "ipython3",
   "version": "3.12.4"
  }
 },
 "nbformat": 4,
 "nbformat_minor": 5
}
