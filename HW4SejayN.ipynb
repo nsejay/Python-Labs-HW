{
 "cells": [
  {
   "cell_type": "markdown",
   "id": "f1fa9e91-d84e-4694-8446-90cebbfb35fa",
   "metadata": {},
   "source": [
    "### Homework 4 Problem 1\n",
    "#### Pseudocode:\n",
    "##### Ask the user how many rows and columns they want\n",
    "##### Create an array of asterisks displaying the number of rows and columns\n",
    "##### Do this by using nested for loops"
   ]
  },
  {
   "cell_type": "code",
   "execution_count": 23,
   "id": "520ab5d1-3caf-4ed9-a601-5801ee3fdd0a",
   "metadata": {
    "scrolled": true
   },
   "outputs": [
    {
     "name": "stdin",
     "output_type": "stream",
     "text": [
      "Enter the number of rows: 6\n",
      "Enter the number of columns: 10\n"
     ]
    },
    {
     "name": "stdout",
     "output_type": "stream",
     "text": [
      "\n",
      "Here is my beautiful design:\n",
      "\n",
      "**********\n",
      "**********\n",
      "**********\n",
      "**********\n",
      "**********\n",
      "**********\n"
     ]
    }
   ],
   "source": [
    "# Author: Sejay Noupin\n",
    "# Purpose: The purpose of this program is to make an array-like output of asterisks\n",
    "\n",
    "rows = int(input(\"Enter the number of rows:\"))\n",
    "columns = int (input(\"Enter the number of columns:\"))\n",
    "print(\"\\nHere is my beautiful design:\\n\")\n",
    "\n",
    "for num in range(rows):\n",
    "    for num in range(columns):\n",
    "        print('*',end = \"\")\n",
    "    print()"
   ]
  },
  {
   "cell_type": "markdown",
   "id": "2d5b9e4a-7c74-49e7-8d8a-cb491af9083c",
   "metadata": {},
   "source": [
    "### Homework 4 Problem 2\n",
    "#### Pseudocode:\n",
    "##### Ask user for amount of calories burned per minute\n",
    "##### Create a loop to force user to only enter positive numbers\n",
    "##### Create a loop to display the amount of calories that will\n",
    "##### be burned in 10-25 minutes in 5 minute intervals"
   ]
  },
  {
   "cell_type": "code",
   "execution_count": 56,
   "id": "648ddbdb-32c8-4d81-8bf0-33128a0e91a3",
   "metadata": {},
   "outputs": [
    {
     "name": "stdin",
     "output_type": "stream",
     "text": [
      "Enter the number of calories burned per minute: -5\n"
     ]
    },
    {
     "name": "stdout",
     "output_type": "stream",
     "text": [
      "\n",
      "Only positive numbers are allowed. Please try again.\n",
      "\n"
     ]
    },
    {
     "name": "stdin",
     "output_type": "stream",
     "text": [
      "Enter the number of calories burned per minute: 0\n"
     ]
    },
    {
     "name": "stdout",
     "output_type": "stream",
     "text": [
      "\n",
      "Only positive numbers are allowed. Please try again.\n",
      "\n"
     ]
    },
    {
     "name": "stdin",
     "output_type": "stream",
     "text": [
      "Enter the number of calories burned per minute: 4.3\n"
     ]
    },
    {
     "name": "stdout",
     "output_type": "stream",
     "text": [
      "\n",
      "The number of calories burned after 10 minutes is: 43.0 calories\n",
      "The number of calories burned after 15 minutes is: 64.5 calories\n",
      "The number of calories burned after 20 minutes is: 86.0 calories\n",
      "The number of calories burned after 25 minutes is: 107.5 calories\n"
     ]
    }
   ],
   "source": [
    "# Author: Sejay Nouipn\n",
    "# Purpose: The purpose of this program is to see how much calories will\n",
    "# Purpose: burn over time based on how many calories are burned per minute.\n",
    "\n",
    "calories_burned = float(input(\"Enter the number of calories burned per minute:\"))\n",
    "\n",
    "while calories_burned <= 0 :\n",
    "    print(\"\\nOnly positive numbers are allowed. Please try again.\\n\")\n",
    "    calories_burned = float(input(\"Enter the number of calories burned per minute:\"))\n",
    "print()\n",
    "\n",
    "for num in range (10, 26, 5) :\n",
    "    print (\"The number of calories burned after \" + str(num) + \" minutes is: \" + str(calories_burned * num) + \" calories\")\n",
    "    "
   ]
  },
  {
   "cell_type": "markdown",
   "id": "16a2da42-5b03-4adb-9b11-f9339f220e89",
   "metadata": {},
   "source": [
    "### Homework 4 Problem 3\n",
    "#### Pseudocode:\n",
    "##### Ask user to input what number they would like a factorial for\n",
    "##### Force user to enter a non-negative number\n",
    "##### Define factorial prior to using it in loop\n",
    "##### Create a recurisve loop in order to find factorial\n",
    "##### Print the solution"
   ]
  },
  {
   "cell_type": "code",
   "execution_count": 35,
   "id": "8eebaea1-1333-46ae-89b1-31bccce8f538",
   "metadata": {},
   "outputs": [
    {
     "name": "stdin",
     "output_type": "stream",
     "text": [
      "Please enter the number you would like a factorial for: 5\n"
     ]
    },
    {
     "name": "stdout",
     "output_type": "stream",
     "text": [
      "5! is equal to: 120\n"
     ]
    }
   ],
   "source": [
    "# Author: Sejay Noupin\n",
    "# Purpose: The purpose of this program is to solve factorials\n",
    "\n",
    "number = int(input(\"Please enter the number you would like a factorial for:\"))\n",
    "\n",
    "while number <= 0 :\n",
    "    print(\"\\nPlease enter a non-negative integer.\\n\")\n",
    "    number = int(input(\"Please enter the number you would like a factorial for:\"))\n",
    "\n",
    "factorial = number\n",
    "\n",
    "for num in range((number-1), 0, -1) :\n",
    "    factorial = factorial * num\n",
    "print(str(number) + \"! is equal to: \" + str(factorial))\n"
   ]
  }
 ],
 "metadata": {
  "kernelspec": {
   "display_name": "Python 3 (ipykernel)",
   "language": "python",
   "name": "python3"
  },
  "language_info": {
   "codemirror_mode": {
    "name": "ipython",
    "version": 3
   },
   "file_extension": ".py",
   "mimetype": "text/x-python",
   "name": "python",
   "nbconvert_exporter": "python",
   "pygments_lexer": "ipython3",
   "version": "3.12.4"
  }
 },
 "nbformat": 4,
 "nbformat_minor": 5
}
