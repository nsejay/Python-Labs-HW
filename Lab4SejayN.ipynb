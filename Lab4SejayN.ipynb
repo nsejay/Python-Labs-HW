{
 "cells": [
  {
   "cell_type": "markdown",
   "id": "b91275e9-621f-4738-9d5d-37e724f83b49",
   "metadata": {},
   "source": [
    "### Lab 4 Problem 1\n",
    "#### Pseudocode\n",
    "##### Create a loop to ask user their age and their love interest age\n",
    "##### Exactly 3 times"
   ]
  },
  {
   "cell_type": "code",
   "execution_count": 9,
   "id": "76455fe0-a2d6-4d65-85fd-40493a8bc19a",
   "metadata": {},
   "outputs": [
    {
     "name": "stdout",
     "output_type": "stream",
     "text": [
      "Possible Date # 1:\n"
     ]
    },
    {
     "name": "stdin",
     "output_type": "stream",
     "text": [
      "Enter your age:  80\n",
      "Enter love interest age:  30\n"
     ]
    },
    {
     "name": "stdout",
     "output_type": "stream",
     "text": [
      "\n",
      "You are creepy... find someone your own age!\n",
      "\n",
      "Possible Date # 2:\n"
     ]
    },
    {
     "name": "stdin",
     "output_type": "stream",
     "text": [
      "Enter your age:  43\n",
      "Enter love interest age:  30\n"
     ]
    },
    {
     "name": "stdout",
     "output_type": "stream",
     "text": [
      "\n",
      "You are good to go!\n",
      "\n",
      "Possible Date # 3:\n"
     ]
    },
    {
     "name": "stdin",
     "output_type": "stream",
     "text": [
      "Enter your age:  20\n",
      "Enter love interest age:  23\n"
     ]
    },
    {
     "name": "stdout",
     "output_type": "stream",
     "text": [
      "\n",
      "You are good to go!\n",
      "\n"
     ]
    }
   ],
   "source": [
    "# Author: Sejay Noupin, Joe Cherry, Alexei Cichon\n",
    "# Purpose: The purpose of this program is to expand on the dating equation using loops\n",
    "\n",
    "for num in range(1,4) :\n",
    "    print (\"Possible Date # \"+ str(num)+':')\n",
    "    your_age = int(input(\"Enter your age: \"))\n",
    "    love_interest_age = int(input(\"Enter love interest age: \"))\n",
    "\n",
    "    if love_interest_age < your_age / 2 + 7 :\n",
    "        print(\"\\nYou are creepy... find someone your own age!\\n\")\n",
    "    else :\n",
    "        print(\"\\nYou are good to go!\\n\")"
   ]
  },
  {
   "cell_type": "markdown",
   "id": "c0791afd-a819-4a83-a1eb-720850682c54",
   "metadata": {},
   "source": [
    "### Lab 4 Problem 2\n",
    "#### Pseudocode\n",
    "##### Initialize the sum using all integers\n",
    "##### Only even integers and only odd integers\n",
    "##### Create loops that will add integers together\n",
    "##### Display results"
   ]
  },
  {
   "cell_type": "code",
   "execution_count": 51,
   "id": "dad4d53b-2319-45d1-9617-308b564a76fa",
   "metadata": {},
   "outputs": [
    {
     "name": "stdout",
     "output_type": "stream",
     "text": [
      "The sum of all integers between 0 and 100: 5050\n",
      "\n",
      "The sum of all even integers between 0 and 100: 2550\n",
      "\n",
      "The sum of all odd integers between 0 and 100: 2500\n"
     ]
    }
   ],
   "source": [
    "# Author: Sejay Noupin, Joe Cherry, Alexei Cichon\n",
    "# Purpose: The purpose of this program is to find the sum of integers between 0 and 100\n",
    "\n",
    "sum_all = 0\n",
    "sum_even = 0\n",
    "sum_odd = 0\n",
    "for num in range(101) :\n",
    "    sum_all += num\n",
    "for num in range(0,101,2) :\n",
    "    sum_even += num\n",
    "for num in range(1,100,2) :\n",
    "    sum_odd += num\n",
    "print(\"The sum of all integers between 0 and 100: \" + str(sum_all))\n",
    "print(\"\\nThe sum of all even integers between 0 and 100: \" + str(sum_even))\n",
    "print(\"\\nThe sum of all odd integers between 0 and 100: \" + str(sum_odd))"
   ]
  },
  {
   "cell_type": "markdown",
   "id": "c7b8945d-66de-43f5-a18b-6bad0dc14ebc",
   "metadata": {},
   "source": [
    "### Lab 4 Problem 3\n",
    "##### This is the chat GPT version of problem 2, \n",
    "##### the main differences is the way they defined the variable (sum_all, sum_even, sum_odd) \n",
    "##### and also how it printed the output, it did not define the string in the code."
   ]
  },
  {
   "cell_type": "code",
   "execution_count": 110,
   "id": "6ddd3cc8-9ed3-4536-97e4-75677c720fd4",
   "metadata": {},
   "outputs": [
    {
     "name": "stdout",
     "output_type": "stream",
     "text": [
      "The sum of all integers between 0 and 100: 5050\n",
      "\n",
      "The sum of all even integers between 0 and 100: 2550\n",
      "\n",
      "The sum of all odd integers between 0 and 100: 2500\n"
     ]
    }
   ],
   "source": [
    "# Author: Sejay Noupin, Joe Cherry, Alexei Cichon, ChatGPT\n",
    "# Purpose: This program checks Problem 2 with ChatGPT based program\n",
    "\n",
    "# Sum of all integers between 0 and 100 (inclusive)\n",
    "sum_all = sum(range(101))\n",
    "\n",
    "# Sum of all even integers between 0 and 100 (inclusive)\n",
    "sum_even = sum(range(0, 101, 2))\n",
    "\n",
    "# Sum of all odd integers between 0 and 100 (inclusive)\n",
    "sum_odd = sum(range(1, 101, 2))\n",
    "\n",
    "# Output results with proper spacing\n",
    "print(\"The sum of all integers between 0 and 100:\", sum_all)\n",
    "print()\n",
    "print(\"The sum of all even integers between 0 and 100:\", sum_even)\n",
    "print()\n",
    "print(\"The sum of all odd integers between 0 and 100:\", sum_odd)"
   ]
  },
  {
   "cell_type": "markdown",
   "id": "319a8e71-04ae-4ad7-b492-94b0bcc4b42d",
   "metadata": {},
   "source": [
    "### Lab Problem 4\n",
    "#### Pseudocode\n",
    "##### Starting money in wallet is 500 dollars\n",
    "##### Flip coin 100 times aNd keep track of when it lands on heads/tails\n",
    "##### Keep track of money in wallet\n",
    "##### Display results\n"
   ]
  },
  {
   "cell_type": "code",
   "execution_count": 108,
   "id": "84956bcb-8db6-434a-bb29-bba71fdd24be",
   "metadata": {},
   "outputs": [
    {
     "name": "stdout",
     "output_type": "stream",
     "text": [
      "The coin landed on tails.\n",
      "You LOSE!\n",
      "The coin landed on heads.\n",
      "You WIN!\n",
      "The coin landed on heads.\n",
      "You WIN!\n",
      "The coin landed on heads.\n",
      "You WIN!\n",
      "The coin landed on heads.\n",
      "You WIN!\n",
      "The coin landed on heads.\n",
      "You WIN!\n",
      "The coin landed on tails.\n",
      "You LOSE!\n",
      "The coin landed on tails.\n",
      "You LOSE!\n",
      "The coin landed on tails.\n",
      "You LOSE!\n",
      "The coin landed on tails.\n",
      "You LOSE!\n",
      "The coin landed on heads.\n",
      "You WIN!\n",
      "The coin landed on tails.\n",
      "You LOSE!\n",
      "The coin landed on tails.\n",
      "You LOSE!\n",
      "The coin landed on tails.\n",
      "You LOSE!\n",
      "The coin landed on tails.\n",
      "You LOSE!\n",
      "The coin landed on tails.\n",
      "You LOSE!\n",
      "The coin landed on tails.\n",
      "You LOSE!\n",
      "The coin landed on heads.\n",
      "You WIN!\n",
      "The coin landed on tails.\n",
      "You LOSE!\n",
      "The coin landed on tails.\n",
      "You LOSE!\n",
      "The coin landed on tails.\n",
      "You LOSE!\n",
      "The coin landed on heads.\n",
      "You WIN!\n",
      "The coin landed on heads.\n",
      "You WIN!\n",
      "The coin landed on heads.\n",
      "You WIN!\n",
      "The coin landed on tails.\n",
      "You LOSE!\n",
      "The coin landed on tails.\n",
      "You LOSE!\n",
      "The coin landed on tails.\n",
      "You LOSE!\n",
      "The coin landed on tails.\n",
      "You LOSE!\n",
      "The coin landed on tails.\n",
      "You LOSE!\n",
      "The coin landed on tails.\n",
      "You LOSE!\n",
      "The coin landed on tails.\n",
      "You LOSE!\n",
      "The coin landed on heads.\n",
      "You WIN!\n",
      "The coin landed on tails.\n",
      "You LOSE!\n",
      "The coin landed on heads.\n",
      "You WIN!\n",
      "The coin landed on heads.\n",
      "You WIN!\n",
      "The coin landed on heads.\n",
      "You WIN!\n",
      "The coin landed on heads.\n",
      "You WIN!\n",
      "The coin landed on heads.\n",
      "You WIN!\n",
      "The coin landed on tails.\n",
      "You LOSE!\n",
      "The coin landed on tails.\n",
      "You LOSE!\n",
      "The coin landed on heads.\n",
      "You WIN!\n",
      "The coin landed on heads.\n",
      "You WIN!\n",
      "The coin landed on heads.\n",
      "You WIN!\n",
      "The coin landed on tails.\n",
      "You LOSE!\n",
      "The coin landed on tails.\n",
      "You LOSE!\n",
      "The coin landed on heads.\n",
      "You WIN!\n",
      "The coin landed on heads.\n",
      "You WIN!\n",
      "The coin landed on tails.\n",
      "You LOSE!\n",
      "The coin landed on tails.\n",
      "You LOSE!\n",
      "The coin landed on tails.\n",
      "You LOSE!\n",
      "The coin landed on heads.\n",
      "You WIN!\n",
      "The coin landed on heads.\n",
      "You WIN!\n",
      "The coin landed on heads.\n",
      "You WIN!\n",
      "The coin landed on heads.\n",
      "You WIN!\n",
      "The coin landed on heads.\n",
      "You WIN!\n",
      "The coin landed on heads.\n",
      "You WIN!\n",
      "The coin landed on tails.\n",
      "You LOSE!\n",
      "The coin landed on tails.\n",
      "You LOSE!\n",
      "The coin landed on tails.\n",
      "You LOSE!\n",
      "The coin landed on tails.\n",
      "You LOSE!\n",
      "The coin landed on tails.\n",
      "You LOSE!\n",
      "The coin landed on heads.\n",
      "You WIN!\n",
      "The coin landed on heads.\n",
      "You WIN!\n",
      "The coin landed on heads.\n",
      "You WIN!\n",
      "The coin landed on tails.\n",
      "You LOSE!\n",
      "The coin landed on heads.\n",
      "You WIN!\n",
      "The coin landed on tails.\n",
      "You LOSE!\n",
      "The coin landed on heads.\n",
      "You WIN!\n",
      "The coin landed on heads.\n",
      "You WIN!\n",
      "The coin landed on heads.\n",
      "You WIN!\n",
      "The coin landed on heads.\n",
      "You WIN!\n",
      "The coin landed on tails.\n",
      "You LOSE!\n",
      "The coin landed on heads.\n",
      "You WIN!\n",
      "The coin landed on tails.\n",
      "You LOSE!\n",
      "The coin landed on tails.\n",
      "You LOSE!\n",
      "The coin landed on heads.\n",
      "You WIN!\n",
      "The coin landed on tails.\n",
      "You LOSE!\n",
      "The coin landed on tails.\n",
      "You LOSE!\n",
      "The coin landed on tails.\n",
      "You LOSE!\n",
      "The coin landed on heads.\n",
      "You WIN!\n",
      "The coin landed on tails.\n",
      "You LOSE!\n",
      "The coin landed on tails.\n",
      "You LOSE!\n",
      "The coin landed on tails.\n",
      "You LOSE!\n",
      "The coin landed on heads.\n",
      "You WIN!\n",
      "The coin landed on heads.\n",
      "You WIN!\n",
      "The coin landed on tails.\n",
      "You LOSE!\n",
      "The coin landed on tails.\n",
      "You LOSE!\n",
      "The coin landed on tails.\n",
      "You LOSE!\n",
      "The coin landed on tails.\n",
      "You LOSE!\n",
      "The coin landed on tails.\n",
      "You LOSE!\n",
      "The coin landed on heads.\n",
      "You WIN!\n",
      "The coin landed on heads.\n",
      "You WIN!\n",
      "The coin landed on heads.\n",
      "You WIN!\n",
      "The coin landed on heads.\n",
      "You WIN!\n",
      "The coin landed on tails.\n",
      "You LOSE!\n",
      "The coin landed on heads.\n",
      "You WIN!\n",
      "The coin landed on heads.\n",
      "You WIN!\n",
      "The coin landed on tails.\n",
      "You LOSE!\n",
      "The coin landed on tails.\n",
      "You LOSE!\n",
      "The coin landed on tails.\n",
      "You LOSE!\n",
      "Number of Heads: 46\n",
      "Number of Tails: 54\n",
      "You now have $ 420.0 in your wallet.\n"
     ]
    }
   ],
   "source": [
    "# Author: Sejay Noupin, Joe Cherry, Alexei Cichon\n",
    "# Purpose: The purpose of this program is to track heads/tails when a coin is flipped\n",
    "# Purpose: and track the total amount of money in the wallet\n",
    "\n",
    "import random\n",
    "\n",
    "heads_count = 0\n",
    "tails_count = 0\n",
    "wallet = 500.00\n",
    "for toss in range(100):\n",
    "    outcome = random.choice(['The coin landed on heads.', 'The coin landed on tails.'])\n",
    "    print(outcome)\n",
    "    if outcome == 'The coin landed on heads.':\n",
    "        wallet += 10.00\n",
    "        print(\"You WIN!\")\n",
    "        heads_count += 1\n",
    "    else:\n",
    "        print('You LOSE!')\n",
    "        wallet -= 10.00\n",
    "        tails_count += 1\n",
    "print('Number of Heads:', heads_count)\n",
    "print('Number of Tails:', tails_count)\n",
    "print('You now have $', wallet, 'in your wallet.')\n"
   ]
  },
  {
   "cell_type": "markdown",
   "id": "b742f18a-ea38-4d0b-a2f0-14f9e6afd478",
   "metadata": {},
   "source": [
    "### Lab 4 Extra Credit\n",
    "#### Pseudocode\n",
    "##### Initialize test score sum and counter\n",
    "##### Ask user to input test scores\n",
    "##### Calculate and display average test scores"
   ]
  },
  {
   "cell_type": "code",
   "execution_count": 99,
   "id": "d9a4cb82-2ef4-4048-9612-cc808367a03b",
   "metadata": {},
   "outputs": [
    {
     "name": "stdin",
     "output_type": "stream",
     "text": [
      "Enter a test score between 0 and 100, -1 when done: 99\n",
      "Enter a test score between 0 and 100, -1 when done: 105\n"
     ]
    },
    {
     "name": "stdout",
     "output_type": "stream",
     "text": [
      "That's not a valid score.\n"
     ]
    },
    {
     "name": "stdin",
     "output_type": "stream",
     "text": [
      "Enter a test score between 0 and 100, -1 when done: -5\n"
     ]
    },
    {
     "name": "stdout",
     "output_type": "stream",
     "text": [
      "That's not a valid score.\n"
     ]
    },
    {
     "name": "stdin",
     "output_type": "stream",
     "text": [
      "Enter a test score between 0 and 100, -1 when done: 85\n",
      "Enter a test score between 0 and 100, -1 when done: -1\n"
     ]
    },
    {
     "name": "stdout",
     "output_type": "stream",
     "text": [
      "\n",
      "The average of 2 test scores is: 92.0\n"
     ]
    }
   ],
   "source": [
    "# Author: Sejay Noupin, Joe Cherry, Alexei Cichon\n",
    "# Purpose: The purpose of this program is to calculate average test score\n",
    "\n",
    "test_score_sum = 0\n",
    "counter = 0\n",
    "test_score = int(input(\"Enter a test score between 0 and 100, -1 when done:\"))\n",
    "while test_score != -1 :\n",
    "    counter += 1\n",
    "    test_score_sum += test_score\n",
    "    test_score = int(input(\"Enter a test score between 0 and 100, -1 when done:\"))\n",
    "    if test_score > 100 or test_score < -2 :\n",
    "        print(\"That's not a valid score.\")\n",
    "        counter -= 1\n",
    "        test_score_sum -= test_score\n",
    "if counter != 0 :\n",
    "    print(\"\\nThe average of \" + str(counter) + \" test scores is: \" + str(float(test_score_sum / counter)))\n",
    "else :\n",
    "    print(\"\\nThe average of 0 test scores is: 0\")"
   ]
  }
 ],
 "metadata": {
  "kernelspec": {
   "display_name": "Python 3 (ipykernel)",
   "language": "python",
   "name": "python3"
  },
  "language_info": {
   "codemirror_mode": {
    "name": "ipython",
    "version": 3
   },
   "file_extension": ".py",
   "mimetype": "text/x-python",
   "name": "python",
   "nbconvert_exporter": "python",
   "pygments_lexer": "ipython3",
   "version": "3.12.4"
  }
 },
 "nbformat": 4,
 "nbformat_minor": 5
}
