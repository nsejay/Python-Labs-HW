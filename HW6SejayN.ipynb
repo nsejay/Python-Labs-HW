{
 "cells": [
  {
   "cell_type": "markdown",
   "id": "07e336fc-12b2-4726-a162-722f426bf9e8",
   "metadata": {},
   "source": [
    "### Homework 6 Problem 1\n",
    "##### - Modified the list function to display the price of the movie\n",
    "##### - Modified the add function to allow input of price of\n",
    "#####   movie and configured inputs of year and price to be \n",
    "#####   read as int and float variables respectively\n",
    "##### - Created the year function to display movies that came out in a \n",
    "#####   specific year. Asked user which year to be checked. Created a \n",
    "#####   loop to find any movies that came out that year. Display movies \n",
    "#####   that were found or state that no movies came out that year"
   ]
  },
  {
   "cell_type": "code",
   "execution_count": 150,
   "id": "dcd5c5db-cf7e-435a-8145-71fbab5b2db5",
   "metadata": {},
   "outputs": [
    {
     "name": "stdout",
     "output_type": "stream",
     "text": [
      "COMMAND MENU\n",
      "list - List all movies\n",
      "add - Add a movie\n",
      "del - Delete a movie\n",
      "year - list movies released in a specific year\n",
      "exit - exit program\n"
     ]
    },
    {
     "name": "stdin",
     "output_type": "stream",
     "text": [
      "\n",
      "Enter Command: year\n",
      "\n",
      "Movies that came out in the year 2018\n"
     ]
    },
    {
     "name": "stdout",
     "output_type": "stream",
     "text": [
      "\n",
      "1. A Star is Born\n",
      "2. An Old Man and a Gun\n",
      "\n",
      "COMMAND MENU\n",
      "list - List all movies\n",
      "add - Add a movie\n",
      "del - Delete a movie\n",
      "year - list movies released in a specific year\n",
      "exit - exit program\n"
     ]
    },
    {
     "name": "stdin",
     "output_type": "stream",
     "text": [
      "\n",
      "Enter Command: year\n",
      "\n",
      "Movies that came out in the year 2017\n"
     ]
    },
    {
     "name": "stdout",
     "output_type": "stream",
     "text": [
      "\n",
      "1. The Spy Who Dumped Me\n",
      "\n",
      "COMMAND MENU\n",
      "list - List all movies\n",
      "add - Add a movie\n",
      "del - Delete a movie\n",
      "year - list movies released in a specific year\n",
      "exit - exit program\n"
     ]
    },
    {
     "name": "stdin",
     "output_type": "stream",
     "text": [
      "\n",
      "Enter Command: year\n",
      "\n",
      "Movies that came out in the year 2016\n"
     ]
    },
    {
     "name": "stdout",
     "output_type": "stream",
     "text": [
      "\n",
      "No movies in the list came out that year\n",
      "\n",
      "COMMAND MENU\n",
      "list - List all movies\n",
      "add - Add a movie\n",
      "del - Delete a movie\n",
      "year - list movies released in a specific year\n",
      "exit - exit program\n"
     ]
    },
    {
     "name": "stdin",
     "output_type": "stream",
     "text": [
      "\n",
      "Enter Command: add\n",
      "\n",
      "Movie Name: Deadpool\n",
      "Movie Year: 2018\n",
      "Movie Price: 10.99\n"
     ]
    },
    {
     "name": "stdout",
     "output_type": "stream",
     "text": [
      "\n",
      "Deadpool was added.\n",
      "\n",
      "COMMAND MENU\n",
      "list - List all movies\n",
      "add - Add a movie\n",
      "del - Delete a movie\n",
      "year - list movies released in a specific year\n",
      "exit - exit program\n"
     ]
    },
    {
     "name": "stdin",
     "output_type": "stream",
     "text": [
      "\n",
      "Enter Command: add\n",
      "\n",
      "Movie Name: Avengers Endgame\n",
      "Movie Year: 2019\n",
      "Movie Price: 12.99\n"
     ]
    },
    {
     "name": "stdout",
     "output_type": "stream",
     "text": [
      "\n",
      "Avengers Endgame was added.\n",
      "\n",
      "COMMAND MENU\n",
      "list - List all movies\n",
      "add - Add a movie\n",
      "del - Delete a movie\n",
      "year - list movies released in a specific year\n",
      "exit - exit program\n"
     ]
    },
    {
     "name": "stdin",
     "output_type": "stream",
     "text": [
      "\n",
      "Enter Command: add\n",
      "\n",
      "Movie Name: Spider-Man Homecoming\n",
      "Movie Year: 2017\n",
      "Movie Price: 10.99\n"
     ]
    },
    {
     "name": "stdout",
     "output_type": "stream",
     "text": [
      "\n",
      "Spider-Man Homecoming was added.\n",
      "\n",
      "COMMAND MENU\n",
      "list - List all movies\n",
      "add - Add a movie\n",
      "del - Delete a movie\n",
      "year - list movies released in a specific year\n",
      "exit - exit program\n"
     ]
    },
    {
     "name": "stdin",
     "output_type": "stream",
     "text": [
      "\n",
      "Enter Command: add\n",
      "\n",
      "Movie Name: Avengers Infinity War\n",
      "Movie Year: 2018\n",
      "Movie Price: 10.99\n"
     ]
    },
    {
     "name": "stdout",
     "output_type": "stream",
     "text": [
      "\n",
      "Avengers Infinity War was added.\n",
      "\n",
      "COMMAND MENU\n",
      "list - List all movies\n",
      "add - Add a movie\n",
      "del - Delete a movie\n",
      "year - list movies released in a specific year\n",
      "exit - exit program\n"
     ]
    },
    {
     "name": "stdin",
     "output_type": "stream",
     "text": [
      "\n",
      "Enter Command: list\n"
     ]
    },
    {
     "name": "stdout",
     "output_type": "stream",
     "text": [
      "\n",
      "1. A Star is Born (2018) (10.99)\n",
      "2. An Old Man and a Gun (2018) (12.99)\n",
      "3. The Spy Who Dumped Me (2017) (9.99)\n",
      "4. Deadpool (2018) (10.99)\n",
      "5. Avengers Endgame (2019) (12.99)\n",
      "6. Spider-Man Homecoming (2017) (10.99)\n",
      "7. Avengers Infinity War (2018) (10.99)\n",
      "\n",
      "COMMAND MENU\n",
      "list - List all movies\n",
      "add - Add a movie\n",
      "del - Delete a movie\n",
      "year - list movies released in a specific year\n",
      "exit - exit program\n"
     ]
    },
    {
     "name": "stdin",
     "output_type": "stream",
     "text": [
      "\n",
      "Enter Command: del\n",
      "\n",
      "Movie number: 7\n"
     ]
    },
    {
     "name": "stdout",
     "output_type": "stream",
     "text": [
      "\n",
      "Avengers Infinity War was deleted.\n",
      "\n",
      "COMMAND MENU\n",
      "list - List all movies\n",
      "add - Add a movie\n",
      "del - Delete a movie\n",
      "year - list movies released in a specific year\n",
      "exit - exit program\n"
     ]
    },
    {
     "name": "stdin",
     "output_type": "stream",
     "text": [
      "\n",
      "Enter Command: year\n",
      "\n",
      "Movies that came out in the year 2016\n"
     ]
    },
    {
     "name": "stdout",
     "output_type": "stream",
     "text": [
      "\n",
      "No movies in the list came out that year\n",
      "\n",
      "COMMAND MENU\n",
      "list - List all movies\n",
      "add - Add a movie\n",
      "del - Delete a movie\n",
      "year - list movies released in a specific year\n",
      "exit - exit program\n"
     ]
    },
    {
     "name": "stdin",
     "output_type": "stream",
     "text": [
      "\n",
      "Enter Command: year\n",
      "\n",
      "Movies that came out in the year 2017\n"
     ]
    },
    {
     "name": "stdout",
     "output_type": "stream",
     "text": [
      "\n",
      "1. The Spy Who Dumped Me\n",
      "2. Spider-Man Homecoming\n",
      "\n",
      "COMMAND MENU\n",
      "list - List all movies\n",
      "add - Add a movie\n",
      "del - Delete a movie\n",
      "year - list movies released in a specific year\n",
      "exit - exit program\n"
     ]
    },
    {
     "name": "stdin",
     "output_type": "stream",
     "text": [
      "\n",
      "Enter Command: year\n",
      "\n",
      "Movies that came out in the year 2018\n"
     ]
    },
    {
     "name": "stdout",
     "output_type": "stream",
     "text": [
      "\n",
      "1. A Star is Born\n",
      "2. An Old Man and a Gun\n",
      "3. Deadpool\n",
      "\n",
      "COMMAND MENU\n",
      "list - List all movies\n",
      "add - Add a movie\n",
      "del - Delete a movie\n",
      "year - list movies released in a specific year\n",
      "exit - exit program\n"
     ]
    },
    {
     "name": "stdin",
     "output_type": "stream",
     "text": [
      "\n",
      "Enter Command: year\n",
      "\n",
      "Movies that came out in the year 2019\n"
     ]
    },
    {
     "name": "stdout",
     "output_type": "stream",
     "text": [
      "\n",
      "1. Avengers Endgame\n",
      "\n",
      "COMMAND MENU\n",
      "list - List all movies\n",
      "add - Add a movie\n",
      "del - Delete a movie\n",
      "year - list movies released in a specific year\n",
      "exit - exit program\n"
     ]
    },
    {
     "name": "stdin",
     "output_type": "stream",
     "text": [
      "\n",
      "Enter Command: exit\n"
     ]
    },
    {
     "name": "stdout",
     "output_type": "stream",
     "text": [
      "\n",
      "You'll be back!\n"
     ]
    }
   ],
   "source": [
    "# Author: Sejay Noupin\n",
    "# Purpose: The purpose of this program is to modify the Movie List done\n",
    "# Purpose: in class to accept paramters for a price in the list and\n",
    "# Purpose: be able to list movies that came out in a specific year\n",
    "\n",
    "def display_menu():\n",
    "    \"\"\"\n",
    "    This function runs the program to display the\n",
    "    menu and the choices you are able to make\n",
    "    \"\"\"\n",
    "    \n",
    "    print(\"COMMAND MENU\")\n",
    "    print(\"list - List all movies\")\n",
    "    print(\"add - Add a movie\")\n",
    "    print(\"del - Delete a movie\")\n",
    "    print(\"year - list movies released in a specific year\")\n",
    "    print(\"exit - exit program\")\n",
    "    \n",
    "def list(movie_list):\n",
    "    \"\"\"\n",
    "    This function runs the program to display\n",
    "    the movies that are already in the list\n",
    "    \"\"\"\n",
    "    \n",
    "    if len(movie_list) == 0:\n",
    "        print(\"\\nThere are no movies in the list.\\n\")\n",
    "    else:\n",
    "        i = 1\n",
    "        print()\n",
    "        for row in movie_list:\n",
    "            print(str(i) + \". \" + row[0] + \" (\" + str(row[1]) + \")\" + \" (\" + str(row[2]) + \")\")\n",
    "            i += 1\n",
    "        print()\n",
    "    \n",
    "def add(movie_list):\n",
    "    \"\"\"\n",
    "    This function runs the program to \n",
    "    add another movie to the list\n",
    "    \"\"\"\n",
    "    \n",
    "    name = input(\"\\nMovie Name:\")\n",
    "    year = int(input(\"Movie Year:\"))\n",
    "    price = float(input(\"Movie Price:\"))\n",
    "    movie = []\n",
    "    movie.append(name)\n",
    "    movie.append(year)\n",
    "    movie.append(price)\n",
    "    movie_list.append(movie)\n",
    "    print('\\n'+ str(movie[0]) + \" was added.\\n\")\n",
    "    \n",
    "def delete(movie_list):\n",
    "    \"\"\"\n",
    "    This function runs the program \n",
    "    to delete a movie from the list\n",
    "    \"\"\"\n",
    "    \n",
    "    number = int(input(\"\\nMovie number:\"))\n",
    "    if number < 1 or number > len(movie_list):\n",
    "        print(\"\\nInvalid movie number.\\n\")\n",
    "    else:\n",
    "        movie = movie_list.pop(number-1)\n",
    "        print('\\n'+ movie[0] + \" was deleted.\\n\")\n",
    "\n",
    "def year(movie_list):\n",
    "    \"\"\"\n",
    "    This function runs the program to see \n",
    "    which movies came out in a specific year\n",
    "    \"\"\"\n",
    "    \n",
    "    years = int(input(\"\\nMovies that came out in the year\"))\n",
    "    print()\n",
    "    i = 0\n",
    "    for row in movie_list:\n",
    "            if years == row[1]:\n",
    "                i += 1\n",
    "                print(str(i) + \".\", row[0])\n",
    "\n",
    "    if i == 0:\n",
    "       print(\"No movies in the list came out that year\") \n",
    "            \n",
    "    print()\n",
    "    \n",
    "def main():\n",
    "    \"\"\"\n",
    "    This is the main function that is called \n",
    "    in order to run the entire program\n",
    "    \"\"\"\n",
    "    \n",
    "    movie_list = [[\"A Star is Born\", 2018, 10.99],\n",
    "                     [\"An Old Man and a Gun\", 2018, 12.99],\n",
    "                    [\"The Spy Who Dumped Me\", 2017, 9.99]]\n",
    "              \n",
    "    display_menu()\n",
    "    command = input(\"\\nEnter Command:\")\n",
    "        \n",
    "    while (command.lower() != \"exit\"):\n",
    "        \n",
    "        if command.lower() == \"list\":\n",
    "            list(movie_list)\n",
    "            display_menu()\n",
    "        elif command.lower() == \"add\":\n",
    "            add(movie_list)\n",
    "            display_menu()\n",
    "        elif command.lower() == \"del\":\n",
    "            delete(movie_list)\n",
    "            display_menu()\n",
    "        elif command.lower() == \"year\":\n",
    "            year(movie_list)\n",
    "            display_menu()\n",
    "        else:\n",
    "            print(\"\\nNot a valid command. Please try again.\")\n",
    "\n",
    "        command = input(\"\\nEnter Command:\")\n",
    "         \n",
    "    print(\"\\nYou'll be back!\")     \n",
    "   \n",
    "if __name__ == \"__main__\":\n",
    "    main()"
   ]
  }
 ],
 "metadata": {
  "kernelspec": {
   "display_name": "Python 3 (ipykernel)",
   "language": "python",
   "name": "python3"
  },
  "language_info": {
   "codemirror_mode": {
    "name": "ipython",
    "version": 3
   },
   "file_extension": ".py",
   "mimetype": "text/x-python",
   "name": "python",
   "nbconvert_exporter": "python",
   "pygments_lexer": "ipython3",
   "version": "3.12.4"
  }
 },
 "nbformat": 4,
 "nbformat_minor": 5
}
