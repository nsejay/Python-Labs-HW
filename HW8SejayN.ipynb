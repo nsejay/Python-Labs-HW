{
 "cells": [
  {
   "cell_type": "markdown",
   "id": "26b43e06-07f2-45ca-b1d7-697262d2ca77",
   "metadata": {},
   "source": [
    "### Homework 8 Problem 1"
   ]
  },
  {
   "cell_type": "code",
   "execution_count": 132,
   "id": "a085ef3b-abe9-4cda-ba39-0e14cf575636",
   "metadata": {},
   "outputs": [
    {
     "name": "stdout",
     "output_type": "stream",
     "text": [
      "Option A: See who spoke more between Hillary Clinton and Donald Trump in the debate\n",
      "Option B: Choose a word/words to see how many times it appears in the debate\n",
      "Option C: See how many times the moderator spoke\n",
      "\n"
     ]
    },
    {
     "name": "stdin",
     "output_type": "stream",
     "text": [
      "Please select 'A', 'B' or 'C': A\n"
     ]
    },
    {
     "name": "stdout",
     "output_type": "stream",
     "text": [
      "Donald Trump spoke 129 times which was 45 more times than Hillary Clinton who spoke 84 times \n"
     ]
    }
   ],
   "source": [
    "# Author: Sejay Noupin\n",
    "# Purpose: The purpose of this program is to see the frequency of certain words\n",
    "# Purpose: in the 2016 Presidential Debate between Hillary Clinton and Donald Trump \n",
    "# as well as the amount of times Clinton, Trump, and Chris Wallace spoke\n",
    "\n",
    "FILENAME = \"DebateTranscript.txt\"\n",
    "\n",
    "def search_hillary() :\n",
    "    \"\"\"\n",
    "    The purpose of this function is to find out how \n",
    "    many times Hillary Clinton spoke in the debate file\n",
    "    \"\"\"\n",
    "    count = 0\n",
    "    search_clinton = \"CLINTON: \"\n",
    "    \n",
    "    with open (FILENAME) as inFile :\n",
    "        for line in inFile :\n",
    "            if search_clinton in line :\n",
    "                count += 1\n",
    "    return count\n",
    "\n",
    "def search_donald() :\n",
    "    \"\"\"\n",
    "    The purpose of this function is to find out how\n",
    "    many times Donald Trump spoke in the debate file\n",
    "    \"\"\"\n",
    "    count = 0\n",
    "    search_trump = \"TRUMP: \"\n",
    "    \n",
    "    with open (FILENAME) as inFile :\n",
    "        for line in inFile :\n",
    "            if search_trump in line :\n",
    "                count += 1\n",
    "    return count\n",
    "\n",
    "def search_word(word) :\n",
    "    \"\"\"\n",
    "    The purpose of this function is to find out how\n",
    "    many times a word was used in the debate file\n",
    "    \"\"\"\n",
    "    count = 0\n",
    "    search_string = word\n",
    "    \n",
    "    with open (FILENAME) as inFile :\n",
    "        for line in inFile :\n",
    "            if search_string in line :\n",
    "                count += 1\n",
    "    return count\n",
    "\n",
    "def search_moderator() :\n",
    "    \"\"\"\n",
    "    The purpose of this function is to find out how\n",
    "    many times Chris Wallace spoke in the debate file\n",
    "    \"\"\"\n",
    "    count = 0\n",
    "    search_wallace = \"WALLACE: \"\n",
    "\n",
    "    with open (FILENAME) as inFile :\n",
    "        for line in inFile :\n",
    "            if search_wallace in line :\n",
    "                count += 1\n",
    "    return count\n",
    "\n",
    "def main() :\n",
    "    \"\"\"\n",
    "    The purpose of this function is to run the program\n",
    "    \"\"\"\n",
    "    print(\"Option A: See who spoke more between Hillary Clinton and Donald Trump in the debate\")\n",
    "    print(\"Option B: Choose a word/words to see how many times it appears in the debate\")\n",
    "    print(\"Option C: See how many times the moderator spoke\\n\")\n",
    "    option = input(\"Please select 'A', 'B' or 'C':\")\n",
    "    \n",
    "    if option.upper() == 'A' :\n",
    "        if search_hillary() > search_donald() :\n",
    "            dif = search_hillary() - search_donald()\n",
    "            print(\"Hillary Clinton spoke \" + str(search_hillary()) + \" times which was \" + str(dif) +  \n",
    "                  \" more times than Donald Trump who spoke \" + str(search_donald) + \" times \")\n",
    "        else :\n",
    "            dif = search_donald() - search_hillary()\n",
    "            print(\"Donald Trump spoke \" + str(search_donald()) + \" times which was \"+ str(dif) +  \n",
    "                  \" more times than Hillary Clinton who spoke \" + str(search_hillary()) + \" times \")\n",
    "    elif option.upper() == 'B' :\n",
    "        word = input(\"Pick a word/words that you would like to see how many times it appeared:\")\n",
    "        print(\"The word \" + \"'\" + word + \"'\" + \" appeared \" + str(search_word(word)) + \" times\")\n",
    "    else :\n",
    "        print(\"Chris Wallace spoke \" + str(search_moderator()) + \" times\")\n",
    "\n",
    "if __name__ == \"__main__\" :\n",
    "    main()"
   ]
  },
  {
   "cell_type": "markdown",
   "id": "0028cc99-d91f-4b8b-a06e-a7dbd1151cdb",
   "metadata": {},
   "source": [
    "### Homework 8 Problem 2"
   ]
  },
  {
   "cell_type": "code",
   "execution_count": 134,
   "id": "23a4a7f8-e426-48d5-a149-3d17350d15cf",
   "metadata": {},
   "outputs": [
    {
     "name": "stdout",
     "output_type": "stream",
     "text": [
      "Answer 1: hey\n",
      "Answer 2: collude\n",
      "Answer 3: arveyudd\n",
      "Answer 4: hardeharharhar\n",
      "Answer 5: legomyego\n",
      "Answer 6: clearcall\n"
     ]
    }
   ],
   "source": [
    "# Author: Sejay Noupin\n",
    "# Purpose: The purpose of this program is to manipulate existing strings to create other strings\n",
    "\n",
    "\n",
    "def main() :\n",
    "    \"\"\"\n",
    "    The purpose of this function is to run the program\n",
    "    \"\"\"\n",
    "    h = 'harvey'\n",
    "    m = 'mudd'\n",
    "    c = 'college'\n",
    "\n",
    "    answer1 = h[0] + h[4:6]\n",
    "    answer2 = c[:4] + m[1:3] + h[-2]\n",
    "    answer3 = h[1:] + m[1:]\n",
    "    answer4 = h[0:3] + m[-1] + c[-1] + 3 * h[0:3]\n",
    "    answer5 = c[3:6] + c[1] + m[0] + h[-1:-3:-1] + c[-2::-4]\n",
    "    answer6 = c[0:5:2] + h[1:3] + c[0] + h[1] + c[2:4]\n",
    "    \n",
    "    print(\"Answer 1: \" + answer1)\n",
    "    print(\"Answer 2: \" + answer2)\n",
    "    print(\"Answer 3: \" + answer3)\n",
    "    print(\"Answer 4: \" + answer4)\n",
    "    print(\"Answer 5: \" + answer5)\n",
    "    print(\"Answer 6: \" + answer6)\n",
    "\n",
    "if __name__ == \"__main__\" :\n",
    "    main()"
   ]
  }
 ],
 "metadata": {
  "kernelspec": {
   "display_name": "Python 3 (ipykernel)",
   "language": "python",
   "name": "python3"
  },
  "language_info": {
   "codemirror_mode": {
    "name": "ipython",
    "version": 3
   },
   "file_extension": ".py",
   "mimetype": "text/x-python",
   "name": "python",
   "nbconvert_exporter": "python",
   "pygments_lexer": "ipython3",
   "version": "3.12.4"
  }
 },
 "nbformat": 4,
 "nbformat_minor": 5
}
