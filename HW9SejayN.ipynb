{
 "cells": [
  {
   "cell_type": "markdown",
   "id": "915b8fe5-e131-4b0d-b023-4d978ad1244c",
   "metadata": {},
   "source": [
    "### Homework 9 Problem 1"
   ]
  },
  {
   "cell_type": "code",
   "execution_count": 41,
   "id": "b0ea880e-59e9-4cf6-b2ab-bac75c12c50c",
   "metadata": {},
   "outputs": [
    {
     "name": "stdout",
     "output_type": "stream",
     "text": [
      "Irene:    212-555-1111\n",
      "Maria:    973-555-4444\n",
      "Linda:    732-555-2222\n",
      "Paula:    908-555-////\n",
      "\n",
      "Irene:    212-555-1111\n",
      "Maria:    973-555-4444\n",
      "Linda:    732-555-2222\n",
      "\n",
      "Irene:    212-555-1111\n",
      "Maria:    973-555-4444\n",
      "Linda:    732-555-2222\n",
      "Steve:    609-555-3333\n",
      "\n"
     ]
    }
   ],
   "source": [
    "# Author: Sejay Noupin\n",
    "# Purpose: The purpose of this program is to create and edit a phonebook dictionary\n",
    "\n",
    "phonebook = {'Irene': '212-555-1111',\n",
    "             'Maria': '973-555-4444',\n",
    "             'Linda': '732-555-2222',\n",
    "             'Paula': '908-555-////'}\n",
    "\n",
    "def print_phonebook() :\n",
    "    \"\"\"\n",
    "    This function is to print the phonebook \n",
    "    dictonary in an organized fashion\n",
    "    \"\"\"\n",
    "    \n",
    "    for name, number in phonebook.items() :\n",
    "        print(name + \":    \" + number)\n",
    "    print()\n",
    "    \n",
    "def main () :\n",
    "    \"\"\"\n",
    "    This function is to run the program\n",
    "    \"\"\"\n",
    "    \n",
    "    print_phonebook()\n",
    "    del phonebook['Paula']\n",
    "    print_phonebook()\n",
    "    phonebook['Steve'] = '609-555-3333'\n",
    "    print_phonebook()\n",
    "\n",
    "if __name__ == \"__main__\" :\n",
    "    main()"
   ]
  },
  {
   "cell_type": "markdown",
   "id": "b39e51f4-fe85-4853-a59d-2564e2d2bd4c",
   "metadata": {},
   "source": [
    "### Homework 9 Problem 2"
   ]
  },
  {
   "cell_type": "code",
   "execution_count": 39,
   "id": "c2f86750-eb18-4327-988a-0334640fbbce",
   "metadata": {},
   "outputs": [
    {
     "name": "stdout",
     "output_type": "stream",
     "text": [
      "In January there is New Year's Day, and MLK Day\n",
      "In February there is Groundhog Day, Valentine's Day, and President's Day\n",
      "In March there is St Patrick's Day, and Our anniversary\n",
      "In April there is Good Friday, and Easter Sunday\n",
      "In May there is Mother's Day, and Memorial Day\n",
      "In June there is Father's Day, and Juneteenth\n",
      "In July there is Independence Day, and Charlie's Birthday\n",
      "In August there is Bill's Birthday, and Kristina's Birthday\n",
      "In September there is Labor Day, and Jane's Anniversary\n",
      "In October there is Columbus Day, and Halloween\n",
      "In November there is Veteran's Day, my birthday, Thanksgiving, and Black Friday\n",
      "In December there is Christmas Eve, Christmas, and New Year's Eve\n"
     ]
    }
   ],
   "source": [
    "# Author: Sejay Noupin\n",
    "# Purpose: The purpose of this program is to display important dates in each month of the year\n",
    "\n",
    "def main() :\n",
    "    \"\"\"\n",
    "    The purpose of this function is to run the program\n",
    "    \"\"\"\n",
    "    \n",
    "    calendarEvents = {\"January\":   [\"New Year's Day\", \"MLK Day\"],\n",
    "                      \"February\":  [\"Groundhog Day\", \"Valentine's Day\", \"President's Day\"],\n",
    "                      \"March\":     [\"St Patrick's Day\", \"Our anniversary\"],\n",
    "                      \"April\":     [\"Good Friday\", \"Easter Sunday\"],\n",
    "                      \"May\":       [\"Mother's Day\", \"Memorial Day\"],\n",
    "                      \"June\":      [\"Father's Day\", \"Juneteenth\"],\n",
    "                      \"July\":      [\"Independence Day\", \"Charlie's Birthday\"],\n",
    "                      \"August\":    [\"Bill's Birthday\", \"Kristina's Birthday\"],\n",
    "                      \"September\": [\"Labor Day\", \"Jane's Anniversary\"],\n",
    "                      \"October\":   [\"Columbus Day\", \"Halloween\"],\n",
    "                      \"November\":  [\"Veteran's Day\", \"my birthday\", \"Thanksgiving\", \"Black Friday\"],\n",
    "                      \"December\":  [\"Christmas Eve\", \"Christmas\", \"New Year's Eve\"]}\n",
    "    \n",
    "    for month in calendarEvents :\n",
    "        print(\"In \" + month + \" there is\", end =' ')\n",
    "        i = 0\n",
    "        while i <= (len(calendarEvents[month]) - 1) :\n",
    "            if i == (len(calendarEvents[month]) - 1) :\n",
    "                print(\"and \" + calendarEvents[month][i])\n",
    "            else :\n",
    "                print(calendarEvents[month][i], end =\", \")\n",
    "            i += 1\n",
    "\n",
    "if __name__ == \"__main__\" :\n",
    "    main()"
   ]
  }
 ],
 "metadata": {
  "kernelspec": {
   "display_name": "Python 3 (ipykernel)",
   "language": "python",
   "name": "python3"
  },
  "language_info": {
   "codemirror_mode": {
    "name": "ipython",
    "version": 3
   },
   "file_extension": ".py",
   "mimetype": "text/x-python",
   "name": "python",
   "nbconvert_exporter": "python",
   "pygments_lexer": "ipython3",
   "version": "3.12.4"
  }
 },
 "nbformat": 4,
 "nbformat_minor": 5
}
